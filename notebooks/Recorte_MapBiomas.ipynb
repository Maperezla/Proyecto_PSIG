{
 "cells": [
  {
   "cell_type": "code",
   "execution_count": 5,
   "id": "3985153f-115a-4006-9004-7b42700ec7ed",
   "metadata": {},
   "outputs": [],
   "source": [
    "import geopandas as gpd\n",
    "import matplotlib.pyplot as plt\n",
    "import folium\n",
    "import rasterio\n",
    "MapBiomass='C:/Users/Equipo/SemDocker/ProyectoProgramacionSIG/TIFF/mapbiomas_collec2_inte_v1-classi_2023.tif'"
   ]
  },
  {
   "cell_type": "code",
   "execution_count": null,
   "id": "c691ddcb-6cb3-4070-92c2-0d847c272c1d",
   "metadata": {},
   "outputs": [],
   "source": []
  }
 ],
 "metadata": {
  "kernelspec": {
   "display_name": "Python 3 (ipykernel)",
   "language": "python",
   "name": "python3"
  },
  "language_info": {
   "codemirror_mode": {
    "name": "ipython",
    "version": 3
   },
   "file_extension": ".py",
   "mimetype": "text/x-python",
   "name": "python",
   "nbconvert_exporter": "python",
   "pygments_lexer": "ipython3",
   "version": "3.12.7"
  }
 },
 "nbformat": 4,
 "nbformat_minor": 5
}
