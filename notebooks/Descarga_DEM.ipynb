{
 "cells": [
  {
   "cell_type": "code",
   "execution_count": 1,
   "id": "0217ecf8-90f5-48a5-ac08-44475982222e",
   "metadata": {},
   "outputs": [],
   "source": [
    "# Importar las librerías necesarias\n",
    "import ee\n",
    "import geemap\n",
    "import geopandas as gpd\n",
    "\n",
    "# Autenticación para Jupyter Lab (esto generará un enlace dentro del notebook)\n",
    "ee.Authenticate(auth_mode='notebook')\n",
    "\n",
    "# Inicializar Earth Engine (si tienes un proyecto GEE, puedes incluir el ID aquí)\n",
    "ee.Initialize(project='ee-maperezla')"
   ]
  },
  {
   "cell_type": "code",
   "execution_count": 2,
   "id": "7643f3c9-0ab3-408c-be69-7ecf0f2010d0",
   "metadata": {},
   "outputs": [
    {
     "data": {
      "text/html": [
       "\n",
       "            <style>\n",
       "                .geemap-dark {\n",
       "                    --jp-widgets-color: white;\n",
       "                    --jp-widgets-label-color: white;\n",
       "                    --jp-ui-font-color1: white;\n",
       "                    --jp-layout-color2: #454545;\n",
       "                    background-color: #383838;\n",
       "                }\n",
       "\n",
       "                .geemap-dark .jupyter-button {\n",
       "                    --jp-layout-color3: #383838;\n",
       "                }\n",
       "\n",
       "                .geemap-colab {\n",
       "                    background-color: var(--colab-primary-surface-color, white);\n",
       "                }\n",
       "\n",
       "                .geemap-colab .jupyter-button {\n",
       "                    --jp-layout-color3: var(--colab-primary-surface-color, white);\n",
       "                }\n",
       "            </style>\n",
       "            "
      ],
      "text/plain": [
       "<IPython.core.display.HTML object>"
      ]
     },
     "metadata": {},
     "output_type": "display_data"
    }
   ],
   "source": [
    "import geopandas as gpd\n",
    "\n",
    "# Cargar shapefile\n",
    "shapefile_path = 'C:/Users/Equipo/SemDocker/ProyectoProgramacionSIG/AOI/PNNAmacayacu.shp'  # Modifica esta ruta\n",
    "gdf = gpd.read_file(shapefile_path)\n",
    "\n",
    "# Convertir a formato GeoJSON y luego a ee.Geometry\n",
    "import json\n",
    "from shapely.geometry import mapping\n",
    "\n",
    "geometry = ee.Geometry(mapping(gdf.geometry[0]))  # Usa la primera geometría del shapefile"
   ]
  },
  {
   "cell_type": "code",
   "execution_count": 3,
   "id": "a8353656-dc82-4417-b264-fb5d52eae05c",
   "metadata": {},
   "outputs": [
    {
     "data": {
      "text/html": [
       "\n",
       "            <style>\n",
       "                .geemap-dark {\n",
       "                    --jp-widgets-color: white;\n",
       "                    --jp-widgets-label-color: white;\n",
       "                    --jp-ui-font-color1: white;\n",
       "                    --jp-layout-color2: #454545;\n",
       "                    background-color: #383838;\n",
       "                }\n",
       "\n",
       "                .geemap-dark .jupyter-button {\n",
       "                    --jp-layout-color3: #383838;\n",
       "                }\n",
       "\n",
       "                .geemap-colab {\n",
       "                    background-color: var(--colab-primary-surface-color, white);\n",
       "                }\n",
       "\n",
       "                .geemap-colab .jupyter-button {\n",
       "                    --jp-layout-color3: var(--colab-primary-surface-color, white);\n",
       "                }\n",
       "            </style>\n",
       "            "
      ],
      "text/plain": [
       "<IPython.core.display.HTML object>"
      ]
     },
     "metadata": {},
     "output_type": "display_data"
    }
   ],
   "source": [
    "DEM = ee.Image('NASA/NASADEM_HGT/001')\n",
    "elevation = DEM.select('elevation')"
   ]
  },
  {
   "cell_type": "code",
   "execution_count": 7,
   "id": "e1a312a6-093d-465f-a164-956aed9a3277",
   "metadata": {},
   "outputs": [
    {
     "data": {
      "text/html": [
       "\n",
       "            <style>\n",
       "                .geemap-dark {\n",
       "                    --jp-widgets-color: white;\n",
       "                    --jp-widgets-label-color: white;\n",
       "                    --jp-ui-font-color1: white;\n",
       "                    --jp-layout-color2: #454545;\n",
       "                    background-color: #383838;\n",
       "                }\n",
       "\n",
       "                .geemap-dark .jupyter-button {\n",
       "                    --jp-layout-color3: #383838;\n",
       "                }\n",
       "\n",
       "                .geemap-colab {\n",
       "                    background-color: var(--colab-primary-surface-color, white);\n",
       "                }\n",
       "\n",
       "                .geemap-colab .jupyter-button {\n",
       "                    --jp-layout-color3: var(--colab-primary-surface-color, white);\n",
       "                }\n",
       "            </style>\n",
       "            "
      ],
      "text/plain": [
       "<IPython.core.display.HTML object>"
      ]
     },
     "metadata": {},
     "output_type": "display_data"
    }
   ],
   "source": [
    "boundaryCountry = ee.FeatureCollection(\"USDOS/LSIB_SIMPLE/2017\")\n",
    "_Colombia = boundaryCountry.filter(ee.Filter.eq('country_na', 'Colombia'))\n",
    "clipUser = elevation.clip(_Colombia)\n",
    "clipUser2 = elevation.clip(geometry)"
   ]
  },
  {
   "cell_type": "code",
   "execution_count": 9,
   "id": "09b46640-0c34-4986-a784-97981fb5d047",
   "metadata": {},
   "outputs": [
    {
     "data": {
      "text/html": [
       "\n",
       "            <style>\n",
       "                .geemap-dark {\n",
       "                    --jp-widgets-color: white;\n",
       "                    --jp-widgets-label-color: white;\n",
       "                    --jp-ui-font-color1: white;\n",
       "                    --jp-layout-color2: #454545;\n",
       "                    background-color: #383838;\n",
       "                }\n",
       "\n",
       "                .geemap-dark .jupyter-button {\n",
       "                    --jp-layout-color3: #383838;\n",
       "                }\n",
       "\n",
       "                .geemap-colab {\n",
       "                    background-color: var(--colab-primary-surface-color, white);\n",
       "                }\n",
       "\n",
       "                .geemap-colab .jupyter-button {\n",
       "                    --jp-layout-color3: var(--colab-primary-surface-color, white);\n",
       "                }\n",
       "            </style>\n",
       "            "
      ],
      "text/plain": [
       "<IPython.core.display.HTML object>"
      ]
     },
     "metadata": {},
     "output_type": "display_data"
    }
   ],
   "source": [
    "export_task = ee.batch.Export.image.toDrive(\n",
    "    image=clipUser2,\n",
    "    description='DEM_PNNAmacayacu',\n",
    "    folder='Imagenes_GEE',  # Asegúrate de que existe\n",
    "    fileNamePrefix='DEM_PNNAmacayacu',\n",
    "    region=geometry,\n",
    "    scale=30,\n",
    "    maxPixels=1e13,\n",
    "    fileFormat='GeoTIFF'\n",
    ")\n",
    "export_task.start()"
   ]
  },
  {
   "cell_type": "code",
   "execution_count": null,
   "id": "f0f33c7b-69a3-45fa-93dc-bcbeae11882d",
   "metadata": {},
   "outputs": [],
   "source": []
  }
 ],
 "metadata": {
  "kernelspec": {
   "display_name": "Python 3 (ipykernel)",
   "language": "python",
   "name": "python3"
  },
  "language_info": {
   "codemirror_mode": {
    "name": "ipython",
    "version": 3
   },
   "file_extension": ".py",
   "mimetype": "text/x-python",
   "name": "python",
   "nbconvert_exporter": "python",
   "pygments_lexer": "ipython3",
   "version": "3.12.7"
  }
 },
 "nbformat": 4,
 "nbformat_minor": 5
}
