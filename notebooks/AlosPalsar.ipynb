{
 "cells": [
  {
   "cell_type": "code",
   "execution_count": 1,
   "id": "e4f2cede-59b6-4d80-8206-d59786103fb3",
   "metadata": {},
   "outputs": [],
   "source": [
    "import contextily as ctx\n",
    "import ee\n",
    "import geemap\n",
    "import geopandas as gpd\n",
    "import matplotlib.pyplot as plt\n",
    "import pandas as pd\n",
    "import shapely\n",
    "from shapely.geometry import Point"
   ]
  },
  {
   "cell_type": "code",
   "execution_count": 2,
   "id": "95b40bad-1369-4d24-bcfb-2aabd33dd460",
   "metadata": {},
   "outputs": [
    {
     "data": {
      "text/html": [
       "\n",
       "            <style>\n",
       "                .geemap-dark {\n",
       "                    --jp-widgets-color: white;\n",
       "                    --jp-widgets-label-color: white;\n",
       "                    --jp-ui-font-color1: white;\n",
       "                    --jp-layout-color2: #454545;\n",
       "                    background-color: #383838;\n",
       "                }\n",
       "\n",
       "                .geemap-dark .jupyter-button {\n",
       "                    --jp-layout-color3: #383838;\n",
       "                }\n",
       "\n",
       "                .geemap-colab {\n",
       "                    background-color: var(--colab-primary-surface-color, white);\n",
       "                }\n",
       "\n",
       "                .geemap-colab .jupyter-button {\n",
       "                    --jp-layout-color3: var(--colab-primary-surface-color, white);\n",
       "                }\n",
       "            </style>\n",
       "            "
      ],
      "text/plain": [
       "<IPython.core.display.HTML object>"
      ]
     },
     "metadata": {},
     "output_type": "display_data"
    },
    {
     "data": {
      "text/html": [
       "<p>To authorize access needed by Earth Engine, open the following\n",
       "        URL in a web browser and follow the instructions:</p>\n",
       "        <p><a href=https://code.earthengine.google.com/client-auth?scopes=https%3A//www.googleapis.com/auth/earthengine%20https%3A//www.googleapis.com/auth/cloud-platform%20https%3A//www.googleapis.com/auth/drive%20https%3A//www.googleapis.com/auth/devstorage.full_control&request_id=SDsrba8h5l8I7YBBprkhoYGHrn9dPxU6xX1zDSRKLu8&tc=hXmCc1oolUbVts_z6jrQFweWLH42Oq9Vy4E8RGV9KQQ&cc=uZ7PglJb9sCzLhJqHlpVtO12y3lJ-exFaRnlStzDsrE>https://code.earthengine.google.com/client-auth?scopes=https%3A//www.googleapis.com/auth/earthengine%20https%3A//www.googleapis.com/auth/cloud-platform%20https%3A//www.googleapis.com/auth/drive%20https%3A//www.googleapis.com/auth/devstorage.full_control&request_id=SDsrba8h5l8I7YBBprkhoYGHrn9dPxU6xX1zDSRKLu8&tc=hXmCc1oolUbVts_z6jrQFweWLH42Oq9Vy4E8RGV9KQQ&cc=uZ7PglJb9sCzLhJqHlpVtO12y3lJ-exFaRnlStzDsrE</a></p>\n",
       "        <p>The authorization workflow will generate a code, which you should paste in the box below.</p>\n",
       "        "
      ],
      "text/plain": [
       "<IPython.core.display.HTML object>"
      ]
     },
     "metadata": {},
     "output_type": "display_data"
    },
    {
     "name": "stdin",
     "output_type": "stream",
     "text": [
      "Enter verification code:  4/1AUJR-x6w9WHeSvp4VyjuTY81bftoBYtDOV_PpiIQGrsL0qLNUyMYMXyX4rs\n"
     ]
    },
    {
     "name": "stdout",
     "output_type": "stream",
     "text": [
      "\n",
      "Successfully saved authorization token.\n"
     ]
    }
   ],
   "source": [
    "# Trigger the authentication flow.\n",
    "ee.Authenticate()\n",
    "\n",
    "# Initialize the library.\n",
    "ee.Initialize(project=\"ee-coberturap\")"
   ]
  },
  {
   "cell_type": "code",
   "execution_count": 3,
   "id": "c6d1c840-5ec3-4f55-91b8-2051e947ea26",
   "metadata": {},
   "outputs": [
    {
     "data": {
      "text/html": [
       "\n",
       "            <style>\n",
       "                .geemap-dark {\n",
       "                    --jp-widgets-color: white;\n",
       "                    --jp-widgets-label-color: white;\n",
       "                    --jp-ui-font-color1: white;\n",
       "                    --jp-layout-color2: #454545;\n",
       "                    background-color: #383838;\n",
       "                }\n",
       "\n",
       "                .geemap-dark .jupyter-button {\n",
       "                    --jp-layout-color3: #383838;\n",
       "                }\n",
       "\n",
       "                .geemap-colab {\n",
       "                    background-color: var(--colab-primary-surface-color, white);\n",
       "                }\n",
       "\n",
       "                .geemap-colab .jupyter-button {\n",
       "                    --jp-layout-color3: var(--colab-primary-surface-color, white);\n",
       "                }\n",
       "            </style>\n",
       "            "
      ],
      "text/plain": [
       "<IPython.core.display.HTML object>"
      ]
     },
     "metadata": {},
     "output_type": "display_data"
    },
    {
     "data": {
      "text/html": [
       "<div>\n",
       "<style scoped>\n",
       "    .dataframe tbody tr th:only-of-type {\n",
       "        vertical-align: middle;\n",
       "    }\n",
       "\n",
       "    .dataframe tbody tr th {\n",
       "        vertical-align: top;\n",
       "    }\n",
       "\n",
       "    .dataframe thead th {\n",
       "        text-align: right;\n",
       "    }\n",
       "</style>\n",
       "<table border=\"1\" class=\"dataframe\">\n",
       "  <thead>\n",
       "    <tr style=\"text-align: right;\">\n",
       "      <th></th>\n",
       "      <th>objectid_1</th>\n",
       "      <th>nombre</th>\n",
       "      <th>categoria</th>\n",
       "      <th>territoria</th>\n",
       "      <th>resolucion</th>\n",
       "      <th>hectareas_</th>\n",
       "      <th>escala</th>\n",
       "      <th>organizaci</th>\n",
       "      <th>fecha_act</th>\n",
       "      <th>url</th>\n",
       "      <th>...</th>\n",
       "      <th>centroid_y</th>\n",
       "      <th>fecha_regi</th>\n",
       "      <th>validado</th>\n",
       "      <th>hectarea_1</th>\n",
       "      <th>perimetro_</th>\n",
       "      <th>administra</th>\n",
       "      <th>id_pnn</th>\n",
       "      <th>record_id</th>\n",
       "      <th>app_id</th>\n",
       "      <th>geometry</th>\n",
       "    </tr>\n",
       "  </thead>\n",
       "  <tbody>\n",
       "    <tr>\n",
       "      <th>0</th>\n",
       "      <td>198761</td>\n",
       "      <td>Amacayacu</td>\n",
       "      <td>Parque Nacional Natural</td>\n",
       "      <td>Territorial Amazonia</td>\n",
       "      <td>283</td>\n",
       "      <td>267480.32</td>\n",
       "      <td>None</td>\n",
       "      <td>Parques Nacionales Naturales de Colombia</td>\n",
       "      <td>2011-06-30</td>\n",
       "      <td>https://runap.parquesnacionales.gov.co/area-pr...</td>\n",
       "      <td>...</td>\n",
       "      <td>-3.439523</td>\n",
       "      <td>2011-06-30</td>\n",
       "      <td>Si</td>\n",
       "      <td>267240.603115</td>\n",
       "      <td>None</td>\n",
       "      <td>PNNC</td>\n",
       "      <td>27</td>\n",
       "      <td>2069</td>\n",
       "      <td>1</td>\n",
       "      <td>POLYGON ((5331866.854 1221528.042, 5331899.919...</td>\n",
       "    </tr>\n",
       "  </tbody>\n",
       "</table>\n",
       "<p>1 rows × 22 columns</p>\n",
       "</div>"
      ],
      "text/plain": [
       "   objectid_1     nombre                categoria            territoria  \\\n",
       "0      198761  Amacayacu  Parque Nacional Natural  Territorial Amazonia   \n",
       "\n",
       "  resolucion  hectareas_ escala                                organizaci  \\\n",
       "0        283   267480.32   None  Parques Nacionales Naturales de Colombia   \n",
       "\n",
       "    fecha_act                                                url  ...  \\\n",
       "0  2011-06-30  https://runap.parquesnacionales.gov.co/area-pr...  ...   \n",
       "\n",
       "  centroid_y  fecha_regi  validado     hectarea_1 perimetro_  administra  \\\n",
       "0  -3.439523  2011-06-30        Si  267240.603115       None        PNNC   \n",
       "\n",
       "  id_pnn record_id  app_id                                           geometry  \n",
       "0     27      2069       1  POLYGON ((5331866.854 1221528.042, 5331899.919...  \n",
       "\n",
       "[1 rows x 22 columns]"
      ]
     },
     "execution_count": 3,
     "metadata": {},
     "output_type": "execute_result"
    }
   ],
   "source": [
    "# --- File paths  ---\n",
    "root_folder = r\"/notebooks/ProyectoFinal/Shapes/\"\n",
    "adi_route = root_folder + \"/PNNAmacayacu.shp\"\n",
    "adi = gpd.read_file(adi_route).to_crs(epsg=9377)\n",
    "adi"
   ]
  },
  {
   "cell_type": "code",
   "execution_count": 4,
   "id": "284333f0-a7b9-471c-b563-f347ba355ebd",
   "metadata": {},
   "outputs": [
    {
     "data": {
      "text/html": [
       "\n",
       "            <style>\n",
       "                .geemap-dark {\n",
       "                    --jp-widgets-color: white;\n",
       "                    --jp-widgets-label-color: white;\n",
       "                    --jp-ui-font-color1: white;\n",
       "                    --jp-layout-color2: #454545;\n",
       "                    background-color: #383838;\n",
       "                }\n",
       "\n",
       "                .geemap-dark .jupyter-button {\n",
       "                    --jp-layout-color3: #383838;\n",
       "                }\n",
       "\n",
       "                .geemap-colab {\n",
       "                    background-color: var(--colab-primary-surface-color, white);\n",
       "                }\n",
       "\n",
       "                .geemap-colab .jupyter-button {\n",
       "                    --jp-layout-color3: var(--colab-primary-surface-color, white);\n",
       "                }\n",
       "            </style>\n",
       "            "
      ],
      "text/plain": [
       "<IPython.core.display.HTML object>"
      ]
     },
     "metadata": {},
     "output_type": "display_data"
    }
   ],
   "source": [
    "ee_fc = geemap.gdf_to_ee(\n",
    "    adi\n",
    ")  # Esto convierte todo el shapefile a una EE FeatureCollection\n",
    "adi = ee_fc.geometry()"
   ]
  },
  {
   "cell_type": "code",
   "execution_count": 5,
   "id": "94fab6fa-c0e4-4c79-ac82-352e801832d3",
   "metadata": {},
   "outputs": [
    {
     "data": {
      "text/html": [
       "\n",
       "            <style>\n",
       "                .geemap-dark {\n",
       "                    --jp-widgets-color: white;\n",
       "                    --jp-widgets-label-color: white;\n",
       "                    --jp-ui-font-color1: white;\n",
       "                    --jp-layout-color2: #454545;\n",
       "                    background-color: #383838;\n",
       "                }\n",
       "\n",
       "                .geemap-dark .jupyter-button {\n",
       "                    --jp-layout-color3: #383838;\n",
       "                }\n",
       "\n",
       "                .geemap-colab {\n",
       "                    background-color: var(--colab-primary-surface-color, white);\n",
       "                }\n",
       "\n",
       "                .geemap-colab .jupyter-button {\n",
       "                    --jp-layout-color3: var(--colab-primary-surface-color, white);\n",
       "                }\n",
       "            </style>\n",
       "            "
      ],
      "text/plain": [
       "<IPython.core.display.HTML object>"
      ]
     },
     "metadata": {},
     "output_type": "display_data"
    },
    {
     "name": "stdout",
     "output_type": "stream",
     "text": [
      "Número de imágenes: 5\n"
     ]
    }
   ],
   "source": [
    "dataset = (\n",
    "    ee.ImageCollection(\"JAXA/ALOS/PALSAR-2/Level2_2/ScanSAR\")\n",
    "    .filterDate(\"2023-12-01\", \"2023-12-31\")\n",
    "    .filterBounds(adi)\n",
    ")\n",
    "# Mostrar info sobre la colección\n",
    "info = dataset.getInfo()\n",
    "print(\"Número de imágenes:\", len(info[\"features\"]))\n",
    "\n",
    "# Seleccionar la banda HH, hacer un mosaico y recortar al área\n",
    "sar_hh = dataset.select(\"HH\").mosaic().clip(adi)\n",
    "\n",
    "# Seleccionar la banda HH, hacer un mosaico y recortar al área\n",
    "sar_hv = dataset.select(\"HV\").mosaic().clip(adi)"
   ]
  },
  {
   "cell_type": "code",
   "execution_count": 6,
   "id": "21d71e24-9b9a-44f3-a143-3d629843fd8f",
   "metadata": {},
   "outputs": [
    {
     "data": {
      "text/html": [
       "\n",
       "            <style>\n",
       "                .geemap-dark {\n",
       "                    --jp-widgets-color: white;\n",
       "                    --jp-widgets-label-color: white;\n",
       "                    --jp-ui-font-color1: white;\n",
       "                    --jp-layout-color2: #454545;\n",
       "                    background-color: #383838;\n",
       "                }\n",
       "\n",
       "                .geemap-dark .jupyter-button {\n",
       "                    --jp-layout-color3: #383838;\n",
       "                }\n",
       "\n",
       "                .geemap-colab {\n",
       "                    background-color: var(--colab-primary-surface-color, white);\n",
       "                }\n",
       "\n",
       "                .geemap-colab .jupyter-button {\n",
       "                    --jp-layout-color3: var(--colab-primary-surface-color, white);\n",
       "                }\n",
       "            </style>\n",
       "            "
      ],
      "text/plain": [
       "<IPython.core.display.HTML object>"
      ]
     },
     "metadata": {},
     "output_type": "display_data"
    },
    {
     "data": {
      "application/vnd.jupyter.widget-view+json": {
       "model_id": "b194ac41d2e944d08984e8c223f8aeb6",
       "version_major": 2,
       "version_minor": 0
      },
      "text/plain": [
       "Map(center=[0, 0], controls=(WidgetControl(options=['position', 'transparent_bg'], widget=SearchDataGUI(childr…"
      ]
     },
     "execution_count": 6,
     "metadata": {},
     "output_type": "execute_result"
    }
   ],
   "source": [
    "Map = geemap.Map()\n",
    "Map.centerObject(adi)\n",
    "sar_rgb = sar_hh.addBands(sar_hv)\n",
    "\n",
    "sar_rgb_vis = {\"min\": 0, \"max\": 10000, \"bands\": [\"HH\", \"HV\", \"HH\"]}\n",
    "\n",
    "Map.addLayer(sar_rgb, sar_rgb_vis, \"SAR_RGB\", True)\n",
    "Map"
   ]
  },
  {
   "cell_type": "code",
   "execution_count": 7,
   "id": "7b59a0eb-8c95-4b77-ba42-cdb350f9effe",
   "metadata": {},
   "outputs": [
    {
     "data": {
      "text/html": [
       "\n",
       "            <style>\n",
       "                .geemap-dark {\n",
       "                    --jp-widgets-color: white;\n",
       "                    --jp-widgets-label-color: white;\n",
       "                    --jp-ui-font-color1: white;\n",
       "                    --jp-layout-color2: #454545;\n",
       "                    background-color: #383838;\n",
       "                }\n",
       "\n",
       "                .geemap-dark .jupyter-button {\n",
       "                    --jp-layout-color3: #383838;\n",
       "                }\n",
       "\n",
       "                .geemap-colab {\n",
       "                    background-color: var(--colab-primary-surface-color, white);\n",
       "                }\n",
       "\n",
       "                .geemap-colab .jupyter-button {\n",
       "                    --jp-layout-color3: var(--colab-primary-surface-color, white);\n",
       "                }\n",
       "            </style>\n",
       "            "
      ],
      "text/plain": [
       "<IPython.core.display.HTML object>"
      ]
     },
     "metadata": {},
     "output_type": "display_data"
    }
   ],
   "source": [
    "import sys\n",
    "+\n",
    "-\n",
    "Draw a polyline\n",
    "Draw a polygon\n",
    "Draw a rectangle\n",
    "Draw a marker\n",
    "Edit layers\n",
    "Delete layers\n",
    "\n",
    "sys.path.append(\"/notebooks/ProyectoFinal\")"
   ]
  },
  {
   "cell_type": "code",
   "execution_count": 8,
   "id": "481185a6-b82f-4331-b24a-95efd18bb5cb",
   "metadata": {},
   "outputs": [
    {
     "data": {
      "text/html": [
       "\n",
       "            <style>\n",
       "                .geemap-dark {\n",
       "                    --jp-widgets-color: white;\n",
       "                    --jp-widgets-label-color: white;\n",
       "                    --jp-ui-font-color1: white;\n",
       "                    --jp-layout-color2: #454545;\n",
       "                    background-color: #383838;\n",
       "                }\n",
       "\n",
       "                .geemap-dark .jupyter-button {\n",
       "                    --jp-layout-color3: #383838;\n",
       "                }\n",
       "\n",
       "                .geemap-colab {\n",
       "                    background-color: var(--colab-primary-surface-color, white);\n",
       "                }\n",
       "\n",
       "                .geemap-colab .jupyter-button {\n",
       "                    --jp-layout-color3: var(--colab-primary-surface-color, white);\n",
       "                }\n",
       "            </style>\n",
       "            "
      ],
      "text/plain": [
       "<IPython.core.display.HTML object>"
      ]
     },
     "metadata": {},
     "output_type": "display_data"
    }
   ],
   "source": [
    "import importlib\n",
    "import SARFunction\n",
    "from SARFunction import dn_to_gamma_db, db_to_gamma_pw"
   ]
  },
  {
   "cell_type": "code",
   "execution_count": 9,
   "id": "c4e0796a-d33f-405d-9666-3858c13a7b0c",
   "metadata": {},
   "outputs": [
    {
     "data": {
      "text/html": [
       "\n",
       "            <style>\n",
       "                .geemap-dark {\n",
       "                    --jp-widgets-color: white;\n",
       "                    --jp-widgets-label-color: white;\n",
       "                    --jp-ui-font-color1: white;\n",
       "                    --jp-layout-color2: #454545;\n",
       "                    background-color: #383838;\n",
       "                }\n",
       "\n",
       "                .geemap-dark .jupyter-button {\n",
       "                    --jp-layout-color3: #383838;\n",
       "                }\n",
       "\n",
       "                .geemap-colab {\n",
       "                    background-color: var(--colab-primary-surface-color, white);\n",
       "                }\n",
       "\n",
       "                .geemap-colab .jupyter-button {\n",
       "                    --jp-layout-color3: var(--colab-primary-surface-color, white);\n",
       "                }\n",
       "            </style>\n",
       "            "
      ],
      "text/plain": [
       "<IPython.core.display.HTML object>"
      ]
     },
     "metadata": {},
     "output_type": "display_data"
    },
    {
     "name": "stdout",
     "output_type": "stream",
     "text": [
      "['HH_pw', 'HV_pw']\n"
     ]
    }
   ],
   "source": [
    "sar_db = dn_to_gamma_db(sar_rgb)\n",
    "sar_pw = db_to_gamma_pw(sar_db)\n",
    "\n",
    "print(sar_pw.bandNames().getInfo())"
   ]
  },
  {
   "cell_type": "code",
   "execution_count": 10,
   "id": "76d3eab1-17b7-4426-9c31-fcb491b67aad",
   "metadata": {},
   "outputs": [
    {
     "data": {
      "text/html": [
       "\n",
       "            <style>\n",
       "                .geemap-dark {\n",
       "                    --jp-widgets-color: white;\n",
       "                    --jp-widgets-label-color: white;\n",
       "                    --jp-ui-font-color1: white;\n",
       "                    --jp-layout-color2: #454545;\n",
       "                    background-color: #383838;\n",
       "                }\n",
       "\n",
       "                .geemap-dark .jupyter-button {\n",
       "                    --jp-layout-color3: #383838;\n",
       "                }\n",
       "\n",
       "                .geemap-colab {\n",
       "                    background-color: var(--colab-primary-surface-color, white);\n",
       "                }\n",
       "\n",
       "                .geemap-colab .jupyter-button {\n",
       "                    --jp-layout-color3: var(--colab-primary-surface-color, white);\n",
       "                }\n",
       "            </style>\n",
       "            "
      ],
      "text/plain": [
       "<IPython.core.display.HTML object>"
      ]
     },
     "metadata": {},
     "output_type": "display_data"
    },
    {
     "data": {
      "application/vnd.jupyter.widget-view+json": {
       "model_id": "f93f034d8d134f218238804a26848e5d",
       "version_major": 2,
       "version_minor": 0
      },
      "text/plain": [
       "Map(center=[0, 0], controls=(WidgetControl(options=['position', 'transparent_bg'], widget=SearchDataGUI(childr…"
      ]
     },
     "execution_count": 10,
     "metadata": {},
     "output_type": "execute_result"
    }
   ],
   "source": [
    "Map2 = geemap.Map()\n",
    "Map2.centerObject(adi)\n",
    "\n",
    "sar_pw_vis = {\"min\": 0, \"max\": 0.5, \"bands\": [\"HH_pw\", \"HV_pw\", \"HH_pw\"]}\n",
    "\n",
    "Map2.addLayer(sar_pw, sar_pw_vis, \"SAR_PW\", True)\n",
    "Map2"
   ]
  }
 ],
 "metadata": {
  "kernelspec": {
   "display_name": "Python 3 (ipykernel)",
   "language": "python",
   "name": "python3"
  },
  "language_info": {
   "codemirror_mode": {
    "name": "ipython",
    "version": 3
   },
   "file_extension": ".py",
   "mimetype": "text/x-python",
   "name": "python",
   "nbconvert_exporter": "python",
   "pygments_lexer": "ipython3",
   "version": "3.11.9"
  }
 },
 "nbformat": 4,
 "nbformat_minor": 5
}
