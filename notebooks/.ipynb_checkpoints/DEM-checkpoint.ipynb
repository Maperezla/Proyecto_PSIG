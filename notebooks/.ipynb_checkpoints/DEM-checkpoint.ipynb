{
 "cells": [
  {
   "cell_type": "markdown",
   "id": "061f1e9a-f558-4794-b207-50725d61b002",
   "metadata": {},
   "source": [
    "CARGAR Y VISUALIZAR DEM PARA AOI"
   ]
  },
  {
   "cell_type": "code",
   "execution_count": 1,
   "id": "f0f33c7b-69a3-45fa-93dc-bcbeae11882d",
   "metadata": {},
   "outputs": [],
   "source": [
    "# Importar librerías necesarias\n",
    "import ee\n",
    "import geemap\n",
    "import geopandas as gpd\n",
    "from shapely.geometry import mapping\n",
    "\n",
    "# Autenticación e inicialización (modo notebook y proyecto específico)\n",
    "ee.Authenticate(auth_mode='notebook')\n",
    "ee.Initialize(project='ee-maperezla')"
   ]
  },
  {
   "cell_type": "code",
   "execution_count": 2,
   "id": "3fa8c6c5-cd37-49c8-9bfc-d91a183e2233",
   "metadata": {},
   "outputs": [
    {
     "data": {
      "text/html": [
       "\n",
       "            <style>\n",
       "                .geemap-dark {\n",
       "                    --jp-widgets-color: white;\n",
       "                    --jp-widgets-label-color: white;\n",
       "                    --jp-ui-font-color1: white;\n",
       "                    --jp-layout-color2: #454545;\n",
       "                    background-color: #383838;\n",
       "                }\n",
       "\n",
       "                .geemap-dark .jupyter-button {\n",
       "                    --jp-layout-color3: #383838;\n",
       "                }\n",
       "\n",
       "                .geemap-colab {\n",
       "                    background-color: var(--colab-primary-surface-color, white);\n",
       "                }\n",
       "\n",
       "                .geemap-colab .jupyter-button {\n",
       "                    --jp-layout-color3: var(--colab-primary-surface-color, white);\n",
       "                }\n",
       "            </style>\n",
       "            "
      ],
      "text/plain": [
       "<IPython.core.display.HTML object>"
      ]
     },
     "metadata": {},
     "output_type": "display_data"
    }
   ],
   "source": [
    "# Cargar shapefile local\n",
    "shapefile_path = '/home/jovyan/work/Data/AOI/PNNAmacayacu.shp'\n",
    "gdf = gpd.read_file(shapefile_path)\n",
    "\n",
    "# Obtener la geometría (primer polígono del shapefile)\n",
    "geometry = ee.Geometry(mapping(gdf.geometry[0]))\n",
    "\n",
    "# Cargar y recortar imagen DEM\n",
    "dem = ee.Image('NASA/NASADEM_HGT/001').select('elevation')\n",
    "dem_clip = dem.clip(geometry)"
   ]
  },
  {
   "cell_type": "code",
   "execution_count": 3,
   "id": "e7e02fee-235e-4584-aa30-1011a6ebbbd9",
   "metadata": {},
   "outputs": [
    {
     "data": {
      "text/html": [
       "\n",
       "            <style>\n",
       "                .geemap-dark {\n",
       "                    --jp-widgets-color: white;\n",
       "                    --jp-widgets-label-color: white;\n",
       "                    --jp-ui-font-color1: white;\n",
       "                    --jp-layout-color2: #454545;\n",
       "                    background-color: #383838;\n",
       "                }\n",
       "\n",
       "                .geemap-dark .jupyter-button {\n",
       "                    --jp-layout-color3: #383838;\n",
       "                }\n",
       "\n",
       "                .geemap-colab {\n",
       "                    background-color: var(--colab-primary-surface-color, white);\n",
       "                }\n",
       "\n",
       "                .geemap-colab .jupyter-button {\n",
       "                    --jp-layout-color3: var(--colab-primary-surface-color, white);\n",
       "                }\n",
       "            </style>\n",
       "            "
      ],
      "text/plain": [
       "<IPython.core.display.HTML object>"
      ]
     },
     "metadata": {},
     "output_type": "display_data"
    }
   ],
   "source": [
    "# Estilos para visualización del DEM\n",
    "dem_vis_params = {\n",
    "    'min': 55,\n",
    "    'max': 181,\n",
    "    'palette': ['#00008B', '#0000CD', '#0000FF', '#00BFFF', '#ADD8E6', '#FFFFFF', '#FFFF00', '#FFA500', '#FF4500', '#8B0000']\n",
    "}\n",
    "\n",
    "# Crear mapa interactivo con geemap\n",
    "Map = geemap.Map(center=[gdf.geometry[0].centroid.y, gdf.geometry[0].centroid.x], zoom=9)\n",
    "Map.addLayer(dem_clip, dem_vis_params, 'DEM recortado')"
   ]
  },
  {
   "cell_type": "code",
   "execution_count": 4,
   "id": "f0db1a4a-1b89-42fb-b0d6-a203b9572675",
   "metadata": {},
   "outputs": [
    {
     "data": {
      "text/html": [
       "\n",
       "            <style>\n",
       "                .geemap-dark {\n",
       "                    --jp-widgets-color: white;\n",
       "                    --jp-widgets-label-color: white;\n",
       "                    --jp-ui-font-color1: white;\n",
       "                    --jp-layout-color2: #454545;\n",
       "                    background-color: #383838;\n",
       "                }\n",
       "\n",
       "                .geemap-dark .jupyter-button {\n",
       "                    --jp-layout-color3: #383838;\n",
       "                }\n",
       "\n",
       "                .geemap-colab {\n",
       "                    background-color: var(--colab-primary-surface-color, white);\n",
       "                }\n",
       "\n",
       "                .geemap-colab .jupyter-button {\n",
       "                    --jp-layout-color3: var(--colab-primary-surface-color, white);\n",
       "                }\n",
       "            </style>\n",
       "            "
      ],
      "text/plain": [
       "<IPython.core.display.HTML object>"
      ]
     },
     "metadata": {},
     "output_type": "display_data"
    },
    {
     "data": {
      "application/vnd.jupyter.widget-view+json": {
       "model_id": "f0cac5fc63ce4bdc83cb21e4752dbf66",
       "version_major": 2,
       "version_minor": 0
      },
      "text/plain": [
       "Map(center=[-3.439523286382691, -70.1442113276866], controls=(WidgetControl(options=['position', 'transparent_…"
      ]
     },
     "execution_count": 4,
     "metadata": {},
     "output_type": "execute_result"
    }
   ],
   "source": [
    "# Convertir GeoDataFrame a ee.FeatureCollection\n",
    "\n",
    "aoi_ee = geemap.gdf_to_ee(gdf)\n",
    "\n",
    "# Ahora agrega el ee.FeatureCollection al mapa\n",
    "\n",
    "aoi_vis_params = {\n",
    "    'color': 'red',  # Ejemplo: color rojo para el contorno\n",
    "    'width': 2,      # Ancho del borde\n",
    "    'fillColor': '00000000' # Fondo transparente (ARGB, '00' para alfa transparente)\n",
    "}\n",
    "Map.addLayer(aoi_ee, aoi_vis_params, 'AOI shapefile (EE FeatureCollection)')\n",
    "\n",
    "\n",
    "Map.addLayerControl()\n",
    "Map\n"
   ]
  },
  {
   "cell_type": "code",
   "execution_count": 5,
   "id": "98534389-2b7d-4f83-b336-d7b9723095a5",
   "metadata": {},
   "outputs": [
    {
     "data": {
      "text/html": [
       "\n",
       "            <style>\n",
       "                .geemap-dark {\n",
       "                    --jp-widgets-color: white;\n",
       "                    --jp-widgets-label-color: white;\n",
       "                    --jp-ui-font-color1: white;\n",
       "                    --jp-layout-color2: #454545;\n",
       "                    background-color: #383838;\n",
       "                }\n",
       "\n",
       "                .geemap-dark .jupyter-button {\n",
       "                    --jp-layout-color3: #383838;\n",
       "                }\n",
       "\n",
       "                .geemap-colab {\n",
       "                    background-color: var(--colab-primary-surface-color, white);\n",
       "                }\n",
       "\n",
       "                .geemap-colab .jupyter-button {\n",
       "                    --jp-layout-color3: var(--colab-primary-surface-color, white);\n",
       "                }\n",
       "            </style>\n",
       "            "
      ],
      "text/plain": [
       "<IPython.core.display.HTML object>"
      ]
     },
     "metadata": {},
     "output_type": "display_data"
    },
    {
     "name": "stdout",
     "output_type": "stream",
     "text": [
      "Valores de elevación en el área: Mínimo=55m, Máximo=181m\n"
     ]
    }
   ],
   "source": [
    "min_val = dem_clip.reduceRegion(\n",
    "    reducer=ee.Reducer.min(),\n",
    "    geometry=geometry,\n",
    "    scale=30, # Usar la misma escala que el DEM\n",
    "    maxPixels=1e9 # Aumentar si el área es muy grande\n",
    ").get('elevation').getInfo()\n",
    "\n",
    "max_val = dem_clip.reduceRegion(\n",
    "    reducer=ee.Reducer.max(),\n",
    "    geometry=geometry,\n",
    "    scale=30,\n",
    "    maxPixels=1e9\n",
    ").get('elevation').getInfo()\n",
    "\n",
    "print(f\"Valores de elevación en el área: Mínimo={min_val}m, Máximo={max_val}m\")"
   ]
  },
  {
   "cell_type": "code",
   "execution_count": null,
   "id": "85f85fe7-7d98-419d-97bb-2421fde847be",
   "metadata": {},
   "outputs": [],
   "source": []
  }
 ],
 "metadata": {
  "kernelspec": {
   "display_name": "Python 3 (ipykernel)",
   "language": "python",
   "name": "python3"
  },
  "language_info": {
   "codemirror_mode": {
    "name": "ipython",
    "version": 3
   },
   "file_extension": ".py",
   "mimetype": "text/x-python",
   "name": "python",
   "nbconvert_exporter": "python",
   "pygments_lexer": "ipython3",
   "version": "3.11.9"
  }
 },
 "nbformat": 4,
 "nbformat_minor": 5
}
