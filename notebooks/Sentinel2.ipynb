{
 "cells": [
  {
   "cell_type": "markdown",
   "id": "f6e12529-8b8e-4859-aa0a-c98ea35e0e97",
   "metadata": {},
   "source": [
    "# CARGAR Y VISUALIZAR COLECCIÓN SENTINEL 2 PARA AOI"
   ]
  },
  {
   "cell_type": "code",
   "execution_count": 1,
   "id": "9bc0e450-28a0-4c7f-927d-7ae0e52b0694",
   "metadata": {},
   "outputs": [],
   "source": [
    "# Importar las librerías necesarias\n",
    "import ee\n",
    "import geemap\n",
    "import geopandas as gpd\n",
    "from shapely.geometry import mapping\n",
    "\n",
    "# Autenticación para Jupyter Lab (esto generará un enlace dentro del notebook)\n",
    "ee.Authenticate(auth_mode='notebook')\n",
    "\n",
    "# Inicializar Earth Engine (si tienes un proyecto GEE, puedes incluir el ID aquí)\n",
    "ee.Initialize(project='ee-maperezla')"
   ]
  },
  {
   "cell_type": "code",
   "execution_count": 2,
   "id": "3fb6cc8a-3698-41eb-a880-b02087ad3674",
   "metadata": {},
   "outputs": [
    {
     "data": {
      "text/html": [
       "\n",
       "            <style>\n",
       "                .geemap-dark {\n",
       "                    --jp-widgets-color: white;\n",
       "                    --jp-widgets-label-color: white;\n",
       "                    --jp-ui-font-color1: white;\n",
       "                    --jp-layout-color2: #454545;\n",
       "                    background-color: #383838;\n",
       "                }\n",
       "\n",
       "                .geemap-dark .jupyter-button {\n",
       "                    --jp-layout-color3: #383838;\n",
       "                }\n",
       "\n",
       "                .geemap-colab {\n",
       "                    background-color: var(--colab-primary-surface-color, white);\n",
       "                }\n",
       "\n",
       "                .geemap-colab .jupyter-button {\n",
       "                    --jp-layout-color3: var(--colab-primary-surface-color, white);\n",
       "                }\n",
       "            </style>\n",
       "            "
      ],
      "text/plain": [
       "<IPython.core.display.HTML object>"
      ]
     },
     "metadata": {},
     "output_type": "display_data"
    }
   ],
   "source": [
    "# Cargar shapefile (asegúrate de que la ruta sea correcta dentro del contenedor)\n",
    "shapefile_path = '/home/jovyan/work/Data/AOI/PNNAmacayacu.shp' # Asegúrate que esta ruta sea la correcta en tu contenedor\n",
    "gdf = gpd.read_file(shapefile_path)\n",
    "\n",
    "# Convertir a ee.Geometry y ee.FeatureCollection\n",
    "# Usamos la primera geometría para el clipping y el gdf completo para la visualización del AOI\n",
    "geometry = ee.Geometry(mapping(gdf.geometry[0]))\n",
    "aoi_ee = geemap.gdf_to_ee(gdf) # Convertir GeoDataFrame a ee.FeatureCollection para geemap\n",
    "\n",
    "# Definir las bandas y filtrar la colección Sentinel-2\n",
    "bandas = ['B2', 'B3', 'B4', 'B5','B6','B8','B8A','B9','B11','B12']\n",
    "sentinel2 = (\n",
    "    ee.ImageCollection('COPERNICUS/S2_SR_HARMONIZED')\n",
    "    .filterDate('2023-01-01', '2023-12-31')\n",
    "    .filter(ee.Filter.lt('CLOUDY_PIXEL_PERCENTAGE', 20))\n",
    "    .filterBounds(geometry)\n",
    "    .select(bandas)\n",
    "    .median()\n",
    "    .clip(geometry)\n",
    ")"
   ]
  },
  {
   "cell_type": "code",
   "execution_count": 3,
   "id": "fc978c2d-79ba-46a2-ac48-ee2c3838c11e",
   "metadata": {},
   "outputs": [
    {
     "data": {
      "text/html": [
       "\n",
       "            <style>\n",
       "                .geemap-dark {\n",
       "                    --jp-widgets-color: white;\n",
       "                    --jp-widgets-label-color: white;\n",
       "                    --jp-ui-font-color1: white;\n",
       "                    --jp-layout-color2: #454545;\n",
       "                    background-color: #383838;\n",
       "                }\n",
       "\n",
       "                .geemap-dark .jupyter-button {\n",
       "                    --jp-layout-color3: #383838;\n",
       "                }\n",
       "\n",
       "                .geemap-colab {\n",
       "                    background-color: var(--colab-primary-surface-color, white);\n",
       "                }\n",
       "\n",
       "                .geemap-colab .jupyter-button {\n",
       "                    --jp-layout-color3: var(--colab-primary-surface-color, white);\n",
       "                }\n",
       "            </style>\n",
       "            "
      ],
      "text/plain": [
       "<IPython.core.display.HTML object>"
      ]
     },
     "metadata": {},
     "output_type": "display_data"
    }
   ],
   "source": [
    "# --- Configuración para Visualización con geemap ---\n",
    "\n",
    "# Parámetros de visualización para la imagen Sentinel-2 (RGB natural)\n",
    "# B4 (Red), B3 (Green), B2 (Blue)\n",
    "sentinel_vis_params = {\n",
    "    'min': 0,\n",
    "    'max': 3000, # Ajusta estos valores según la luminosidad deseada\n",
    "    'bands': ['B4', 'B3', 'B2']\n",
    "}\n",
    "\n",
    "# Parámetros de visualización para el AOI (opcional, para resaltar el polígono)\n",
    "aoi_vis_params = {\n",
    "    'color': 'FF0000', # Rojo en formato hexadecimal (RGB)\n",
    "    'width': 2,        # Ancho del borde\n",
    "    'fillColor': '00000000' # Fondo transparente (ARGB: 00 = alfa totalmente transparente)\n",
    "}"
   ]
  },
  {
   "cell_type": "code",
   "execution_count": 4,
   "id": "04ffe200-314e-49b7-a06f-d72bdddefbb9",
   "metadata": {},
   "outputs": [
    {
     "data": {
      "text/html": [
       "\n",
       "            <style>\n",
       "                .geemap-dark {\n",
       "                    --jp-widgets-color: white;\n",
       "                    --jp-widgets-label-color: white;\n",
       "                    --jp-ui-font-color1: white;\n",
       "                    --jp-layout-color2: #454545;\n",
       "                    background-color: #383838;\n",
       "                }\n",
       "\n",
       "                .geemap-dark .jupyter-button {\n",
       "                    --jp-layout-color3: #383838;\n",
       "                }\n",
       "\n",
       "                .geemap-colab {\n",
       "                    background-color: var(--colab-primary-surface-color, white);\n",
       "                }\n",
       "\n",
       "                .geemap-colab .jupyter-button {\n",
       "                    --jp-layout-color3: var(--colab-primary-surface-color, white);\n",
       "                }\n",
       "            </style>\n",
       "            "
      ],
      "text/plain": [
       "<IPython.core.display.HTML object>"
      ]
     },
     "metadata": {},
     "output_type": "display_data"
    },
    {
     "data": {
      "application/vnd.jupyter.widget-view+json": {
       "model_id": "d3b4463dae7a4b679752d464339058d1",
       "version_major": 2,
       "version_minor": 0
      },
      "text/plain": [
       "Map(center=[-3.439523286382691, -70.1442113276866], controls=(WidgetControl(options=['position', 'transparent_…"
      ]
     },
     "execution_count": 4,
     "metadata": {},
     "output_type": "execute_result"
    }
   ],
   "source": [
    "# Crear un mapa interactivo centrado en tu AOI\n",
    "# Usamos el centroide del primer polígono del gdf para el centrado inicial del mapa\n",
    "Map = geemap.Map(center=[gdf.geometry[0].centroid.y, gdf.geometry[0].centroid.x], zoom=9)\n",
    "\n",
    "# Agregar la imagen Sentinel-2 al mapa\n",
    "Map.addLayer(sentinel2, sentinel_vis_params, 'Sentinel-2 (2023-11-01 to 2023-12-31)')\n",
    "\n",
    "# Agregar el AOI (FeatureCollection) al mapa\n",
    "Map.addLayer(aoi_ee, aoi_vis_params, 'Área de Interés (AOI)')\n",
    "\n",
    "# Añadir control de capas para encender/apagar y ajustar la opacidad\n",
    "Map.addLayerControl()\n",
    "\n",
    "# Mostrar el mapa\n",
    "Map"
   ]
  },
  {
   "cell_type": "markdown",
   "id": "f54dd798-38d4-4e77-8e91-0e0718cac892",
   "metadata": {},
   "source": [
    "# VARIABLES OPTICAS DE INTERES"
   ]
  },
  {
   "cell_type": "code",
   "execution_count": 5,
   "id": "68596082-a5b8-4438-918f-4b74fceb6508",
   "metadata": {},
   "outputs": [
    {
     "data": {
      "text/html": [
       "\n",
       "            <style>\n",
       "                .geemap-dark {\n",
       "                    --jp-widgets-color: white;\n",
       "                    --jp-widgets-label-color: white;\n",
       "                    --jp-ui-font-color1: white;\n",
       "                    --jp-layout-color2: #454545;\n",
       "                    background-color: #383838;\n",
       "                }\n",
       "\n",
       "                .geemap-dark .jupyter-button {\n",
       "                    --jp-layout-color3: #383838;\n",
       "                }\n",
       "\n",
       "                .geemap-colab {\n",
       "                    background-color: var(--colab-primary-surface-color, white);\n",
       "                }\n",
       "\n",
       "                .geemap-colab .jupyter-button {\n",
       "                    --jp-layout-color3: var(--colab-primary-surface-color, white);\n",
       "                }\n",
       "            </style>\n",
       "            "
      ],
      "text/plain": [
       "<IPython.core.display.HTML object>"
      ]
     },
     "metadata": {},
     "output_type": "display_data"
    }
   ],
   "source": [
    "import sys\n",
    "\n",
    "sys.path.append('/home/jovyan/work/src')\n",
    "\n",
    "from indices_sentinel2 import indices_sentinel2\n"
   ]
  },
  {
   "cell_type": "code",
   "execution_count": 8,
   "id": "941ba2b8-8529-4191-8baf-8c1b72f86422",
   "metadata": {},
   "outputs": [
    {
     "data": {
      "text/html": [
       "\n",
       "            <style>\n",
       "                .geemap-dark {\n",
       "                    --jp-widgets-color: white;\n",
       "                    --jp-widgets-label-color: white;\n",
       "                    --jp-ui-font-color1: white;\n",
       "                    --jp-layout-color2: #454545;\n",
       "                    background-color: #383838;\n",
       "                }\n",
       "\n",
       "                .geemap-dark .jupyter-button {\n",
       "                    --jp-layout-color3: #383838;\n",
       "                }\n",
       "\n",
       "                .geemap-colab {\n",
       "                    background-color: var(--colab-primary-surface-color, white);\n",
       "                }\n",
       "\n",
       "                .geemap-colab .jupyter-button {\n",
       "                    --jp-layout-color3: var(--colab-primary-surface-color, white);\n",
       "                }\n",
       "            </style>\n",
       "            "
      ],
      "text/plain": [
       "<IPython.core.display.HTML object>"
      ]
     },
     "metadata": {},
     "output_type": "display_data"
    }
   ],
   "source": [
    "from indices_sentinel2 import indices_sentinel2\n",
    "\n",
    "\n",
    "image_indices = indices_sentinel2(sentinel2)\n"
   ]
  },
  {
   "cell_type": "code",
   "execution_count": 11,
   "id": "46c345f2-8650-467c-aca4-d1d3832a3a9a",
   "metadata": {},
   "outputs": [
    {
     "data": {
      "text/html": [
       "\n",
       "            <style>\n",
       "                .geemap-dark {\n",
       "                    --jp-widgets-color: white;\n",
       "                    --jp-widgets-label-color: white;\n",
       "                    --jp-ui-font-color1: white;\n",
       "                    --jp-layout-color2: #454545;\n",
       "                    background-color: #383838;\n",
       "                }\n",
       "\n",
       "                .geemap-dark .jupyter-button {\n",
       "                    --jp-layout-color3: #383838;\n",
       "                }\n",
       "\n",
       "                .geemap-colab {\n",
       "                    background-color: var(--colab-primary-surface-color, white);\n",
       "                }\n",
       "\n",
       "                .geemap-colab .jupyter-button {\n",
       "                    --jp-layout-color3: var(--colab-primary-surface-color, white);\n",
       "                }\n",
       "            </style>\n",
       "            "
      ],
      "text/plain": [
       "<IPython.core.display.HTML object>"
      ]
     },
     "metadata": {},
     "output_type": "display_data"
    },
    {
     "name": "stdout",
     "output_type": "stream",
     "text": [
      "['NDVI', 'EVI', 'BSI', 'RED', 'NIR', 'SWIR1', 'SWIR2']\n"
     ]
    }
   ],
   "source": [
    "print (image_indices.bandNames().getInfo())"
   ]
  },
  {
   "cell_type": "code",
   "execution_count": null,
   "id": "8a094653-6714-4660-a391-e9198499b939",
   "metadata": {},
   "outputs": [],
   "source": []
  }
 ],
 "metadata": {
  "kernelspec": {
   "display_name": "Python 3 (ipykernel)",
   "language": "python",
   "name": "python3"
  },
  "language_info": {
   "codemirror_mode": {
    "name": "ipython",
    "version": 3
   },
   "file_extension": ".py",
   "mimetype": "text/x-python",
   "name": "python",
   "nbconvert_exporter": "python",
   "pygments_lexer": "ipython3",
   "version": "3.11.9"
  }
 },
 "nbformat": 4,
 "nbformat_minor": 5
}
