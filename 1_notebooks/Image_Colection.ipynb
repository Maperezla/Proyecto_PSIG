{
 "cells": [
  {
   "cell_type": "markdown",
   "id": "206d6c11-d2ac-4a50-889c-eabb620b2eec",
   "metadata": {},
   "source": [
    "##       **1. COMBINACIÓN DE MÚLTIPLES ARCHIVOS RASTER**"
   ]
  },
  {
   "cell_type": "markdown",
   "id": "74e79e58-32b8-428f-8ae4-2b7b6dfdae8e",
   "metadata": {},
   "source": [
    "El presente cuaderno busca combinar diferentes datos raster en un archivo multibanda; se busca que el resultado tenga tanto el mismo tipo de dato como igual manejo de valores *\"no data\"*"
   ]
  },
  {
   "cell_type": "markdown",
   "id": "dbab3bb0-4a72-45fe-8d52-a524ee8c19b7",
   "metadata": {},
   "source": [
    "## 1.1. Importar librerias y definir carpeta que contiene los raster"
   ]
  },
  {
   "cell_type": "code",
   "execution_count": 2,
   "id": "fdaff879-2b34-471d-927e-89ce68e2611e",
   "metadata": {},
   "outputs": [],
   "source": [
    "import os\n",
    "import rasterio\n",
    "import numpy as np\n",
    "\n",
    "# Carpeta y nombre del archivo de salida\n",
    "carpeta = 'C:/Users/Equipo/SemDocker/ProyectoProgramacionSIG/Data/Imagenes_25_07_12_v2'\n",
    "salida_path = os.path.join(carpeta, 'stack_completo.tif')\n",
    "\n",
    "# Archivos en orden deseado\n",
    "archivos = [\n",
    "    'DEM9377.tif',                                      # 1 banda\n",
    "    'gedi_resampleado9377.tif',\n",
    "    'mapbiomas_amacayacu_2023_resampleado9377.tif',     # 1 banda\n",
    "    'SAR_PW_resampleado9377.tif',                       # 2 bandas\n",
    "    'sentinel2_index_proye_resampleado9377.tif'         # N bandas\n",
    "]"
   ]
  },
  {
   "cell_type": "markdown",
   "id": "2b202746-0909-4a85-ad44-bc0aff8c5307",
   "metadata": {},
   "source": [
    "## 1.2 Configuración general y procesamiento de los archivos"
   ]
  },
  {
   "cell_type": "markdown",
   "id": "b2eeb9cf-d010-441c-8800-461b800638a5",
   "metadata": {},
   "source": [
    "**'float32'** es un tipo de dato de punto flotante de 32 bits, usado para datos continuos como elevación o índices. Esto asegura la consistencia de los datos en el unión final\n",
    "\n",
    "El **'with'** asegura que el archivo se cierre correctamente después de su uso\n",
    "\n",
    "**'profile_base'** servirá como plantilla para el archivo de salida, garantizando que el stack final tenga la misma georreferenciación y dimensiones que el DEM\n",
    "\n",
    "**'profile_base.update'** actualiza el perfil base con el tipo de dato y el valor nodata que se desean para el archivo de salida.\n",
    "\n",
    "**'if nodata_original is not None'** Comprueba si el archivo original tiene un valor nodata definido en sus metadatos.\n",
    "\n",
    "Es **importante el orden** porque aquí se define que el primer archivo corresponde a la plantilla\n"
   ]
  },
  {
   "cell_type": "code",
   "execution_count": 6,
   "id": "b3d44f25-969a-445e-914d-46eaf4aaf239",
   "metadata": {},
   "outputs": [
    {
     "name": "stdout",
     "output_type": "stream",
     "text": [
      " DEM9377.tif: 1 banda(s) agregada(s).\n",
      " gedi_resampleado9377.tif: 1 banda(s) agregada(s).\n",
      " mapbiomas_amacayacu_2023_resampleado9377.tif: 1 banda(s) agregada(s).\n",
      " SAR_PW_resampleado9377.tif: 2 banda(s) agregada(s).\n",
      " sentinel2_index_proye_resampleado9377.tif: 7 banda(s) agregada(s).\n"
     ]
    }
   ],
   "source": [
    "# Configuración general\n",
    "dtype_salida = 'float32'       # Tipo de dato común\n",
    "nodata_comun = -9999           # Valor nodata común para todas las bandas\n",
    "bandas_stack = []              # Lista de arrays a unir\n",
    "nombres_bandas = []            # Lista para log de seguimiento\n",
    "\n",
    "# Leer el perfil del DEM como plantilla\n",
    "with rasterio.open(os.path.join(carpeta, archivos[0])) as dem_src:\n",
    "    profile_base = dem_src.profile.copy()\n",
    "    profile_base.update(dtype=dtype_salida, nodata=nodata_comun)\n",
    "\n",
    "# Procesar todos los archivos en orden\n",
    "for nombre in archivos:\n",
    "    path = os.path.join(carpeta, nombre)\n",
    "    try:\n",
    "        with rasterio.open(path) as src:\n",
    "            data = src.read().astype(dtype_salida)  # Convertir al tipo común\n",
    "            nodata_original = src.nodata\n",
    "\n",
    "            # Imputación de nodata\n",
    "            if nodata_original is not None:\n",
    "                data[data == nodata_original] = nodata_comun\n",
    "            else:\n",
    "                data[np.isnan(data)] = nodata_comun\n",
    "\n",
    "            # Agregar al stack y registrar info\n",
    "            bandas_stack.append(data)\n",
    "            for i in range(data.shape[0]):\n",
    "                nombres_bandas.append(f\"{nombre} - Banda {i+1}\")\n",
    "\n",
    "            print(f' {nombre}: {data.shape[0]} banda(s) agregada(s).')\n",
    "\n",
    "    except Exception as e:\n",
    "        print(f' Error leyendo {nombre}: {e}')"
   ]
  },
  {
   "cell_type": "markdown",
   "id": "16c3962c-ea35-430f-8fbb-b460dff5cdc2",
   "metadata": {},
   "source": [
    "## 1.3 Concatenar bandas y actualizar metadatos"
   ]
  },
  {
   "cell_type": "markdown",
   "id": "0812d62d-403f-48b6-8a24-fe89e1ad1da2",
   "metadata": {},
   "source": [
    "**np.vstack** apila verticalmente los datos que se han almacenado previamente en *'bandas_stack'*\n"
   ]
  },
  {
   "cell_type": "code",
   "execution_count": 10,
   "id": "9497283e-56ce-4342-9f19-2c297d69cbdb",
   "metadata": {},
   "outputs": [
    {
     "name": "stdout",
     "output_type": "stream",
     "text": [
      "\n",
      " Imagen multibanda guardada como: C:/Users/Equipo/SemDocker/ProyectoProgramacionSIG/Data/Imagenes_25_07_12_v2\\stack_completo.tif\n",
      " Total de bandas combinadas: 12\n"
     ]
    }
   ],
   "source": [
    "# Concatenar bandas\n",
    "stack_final = np.vstack(bandas_stack)  # Shape: (total_bandas, height, width)\n",
    "\n",
    "# Actualizar metadatos\n",
    "profile_base.update(count=stack_final.shape[0])\n",
    "\n",
    "# Guardar imagen unificada\n",
    "with rasterio.open(salida_path, 'w', **profile_base) as dst:\n",
    "    dst.write(stack_final)\n",
    "\n",
    "print(f'\\n Imagen multibanda guardada como: {salida_path}')\n",
    "print(f' Total de bandas combinadas: {stack_final.shape[0]}')"
   ]
  },
  {
   "cell_type": "markdown",
   "id": "f85e95ea-73b5-4cb3-a1f3-28f676631050",
   "metadata": {},
   "source": [
    "## 1.4 Resumen de bandas"
   ]
  },
  {
   "cell_type": "code",
   "execution_count": 13,
   "id": "215fb723-3708-4005-a8fa-96f1da43b199",
   "metadata": {},
   "outputs": [
    {
     "name": "stdout",
     "output_type": "stream",
     "text": [
      "\n",
      " Detalle de bandas apiladas:\n",
      "  Banda 01: DEM9377.tif - Banda 1\n",
      "  Banda 02: gedi_resampleado9377.tif - Banda 1\n",
      "  Banda 03: mapbiomas_amacayacu_2023_resampleado9377.tif - Banda 1\n",
      "  Banda 04: SAR_PW_resampleado9377.tif - Banda 1\n",
      "  Banda 05: SAR_PW_resampleado9377.tif - Banda 2\n",
      "  Banda 06: sentinel2_index_proye_resampleado9377.tif - Banda 1\n",
      "  Banda 07: sentinel2_index_proye_resampleado9377.tif - Banda 2\n",
      "  Banda 08: sentinel2_index_proye_resampleado9377.tif - Banda 3\n",
      "  Banda 09: sentinel2_index_proye_resampleado9377.tif - Banda 4\n",
      "  Banda 10: sentinel2_index_proye_resampleado9377.tif - Banda 5\n",
      "  Banda 11: sentinel2_index_proye_resampleado9377.tif - Banda 6\n",
      "  Banda 12: sentinel2_index_proye_resampleado9377.tif - Banda 7\n"
     ]
    }
   ],
   "source": [
    "# (Opcional) Mostrar resumen de bandas\n",
    "print(\"\\n Detalle de bandas apiladas:\")\n",
    "for idx, nombre_banda in enumerate(nombres_bandas, start=1):\n",
    "    print(f\"  Banda {idx:02d}: {nombre_banda}\")"
   ]
  },
  {
   "cell_type": "code",
   "execution_count": null,
   "id": "ef53cf9b-95de-4bbc-bdb1-c0152e31a85d",
   "metadata": {},
   "outputs": [],
   "source": []
  }
 ],
 "metadata": {
  "kernelspec": {
   "display_name": "Python 3 (ipykernel)",
   "language": "python",
   "name": "python3"
  },
  "language_info": {
   "codemirror_mode": {
    "name": "ipython",
    "version": 3
   },
   "file_extension": ".py",
   "mimetype": "text/x-python",
   "name": "python",
   "nbconvert_exporter": "python",
   "pygments_lexer": "ipython3",
   "version": "3.11.9"
  }
 },
 "nbformat": 4,
 "nbformat_minor": 5
}
