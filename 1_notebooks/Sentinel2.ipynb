{
 "cells": [
  {
   "cell_type": "markdown",
   "id": "4925083c-92cc-430f-8695-7cc1c1c7945a",
   "metadata": {},
   "source": [
    "#       **1. PRE-PROCESAMIENTO DE IMAGENES SENTINEL - 2 Y VARIABLES EXPLICATIVAS**"
   ]
  },
  {
   "cell_type": "markdown",
   "id": "c7b3febb-08c1-4a1b-8543-7f4ed6bb17e0",
   "metadata": {},
   "source": [
    "Permite el analisis de imagenes satelitales en la nube utilizando Google Earth Engine; permitiendo obtener una imagen Sentinel 2 sin nubes y con índices y variables explicativas para el modelo para el área de interés"
   ]
  },
  {
   "cell_type": "markdown",
   "id": "9372d548-f486-4b39-8adf-82bb64a255b1",
   "metadata": {},
   "source": [
    "## 1.1 Importar librerias y cargar área de interés"
   ]
  },
  {
   "cell_type": "code",
   "execution_count": 7,
   "id": "27a23b14-5bd6-4a5e-99f8-03f59860b2d9",
   "metadata": {},
   "outputs": [
    {
     "data": {
      "text/plain": [
       "True"
      ]
     },
     "execution_count": 7,
     "metadata": {},
     "output_type": "execute_result"
    }
   ],
   "source": [
    "import ee\n",
    "import geemap\n",
    "import geopandas as gpd\n",
    "\n",
    "gdf_aoi=gpd.read_file('C:/Users/Equipo/SemDocker/ProyectoProgramacionSIG/Data/AOI/PNNAmacayacu.shp') # Path to the vector file that contains the AOI\n",
    "\n",
    "ee.Authenticate()\n",
    "\n",
    "ee.Initialize(project='ee-maperezla')"
   ]
  },
  {
   "cell_type": "markdown",
   "id": "c6753bd4-66b8-4dfb-a3e5-943025922595",
   "metadata": {},
   "source": [
    "## 1.2 Convertir geometria local a formato Earth Engine"
   ]
  },
  {
   "cell_type": "code",
   "execution_count": 9,
   "id": "bd069c9f-fae2-4818-86ab-f36a5cee3f1b",
   "metadata": {},
   "outputs": [
    {
     "data": {
      "text/html": [
       "\n",
       "            <style>\n",
       "                .geemap-dark {\n",
       "                    --jp-widgets-color: white;\n",
       "                    --jp-widgets-label-color: white;\n",
       "                    --jp-ui-font-color1: white;\n",
       "                    --jp-layout-color2: #454545;\n",
       "                    background-color: #383838;\n",
       "                }\n",
       "\n",
       "                .geemap-dark .jupyter-button {\n",
       "                    --jp-layout-color3: #383838;\n",
       "                }\n",
       "\n",
       "                .geemap-colab {\n",
       "                    background-color: var(--colab-primary-surface-color, white);\n",
       "                }\n",
       "\n",
       "                .geemap-colab .jupyter-button {\n",
       "                    --jp-layout-color3: var(--colab-primary-surface-color, white);\n",
       "                }\n",
       "            </style>\n",
       "            "
      ],
      "text/plain": [
       "<IPython.core.display.HTML object>"
      ]
     },
     "metadata": {},
     "output_type": "display_data"
    }
   ],
   "source": [
    "# Convert to Earth Engine geometry\n",
    "aoi_geom = gdf_aoi.geometry[0].__geo_interface__\n",
    "aoi_ee = ee.Geometry(aoi_geom)"
   ]
  },
  {
   "cell_type": "markdown",
   "id": "94806c5a-0863-4f5b-99f0-50e45d455e76",
   "metadata": {},
   "source": [
    "## 1.3 Definir las bandas y filtrar la colección Sentinel-2"
   ]
  },
  {
   "cell_type": "markdown",
   "id": "24a424ec-cc33-45d7-ba89-dbdeec3652bd",
   "metadata": {},
   "source": [
    "La banda **QA60** contiene bit de control de calidad que incluye información sobre nubes y cirros, realizandose una operación bit a bit "
   ]
  },
  {
   "cell_type": "code",
   "execution_count": 11,
   "id": "4bd1c86b-0fd8-4775-adcc-31ae3efade78",
   "metadata": {},
   "outputs": [
    {
     "data": {
      "text/html": [
       "\n",
       "            <style>\n",
       "                .geemap-dark {\n",
       "                    --jp-widgets-color: white;\n",
       "                    --jp-widgets-label-color: white;\n",
       "                    --jp-ui-font-color1: white;\n",
       "                    --jp-layout-color2: #454545;\n",
       "                    background-color: #383838;\n",
       "                }\n",
       "\n",
       "                .geemap-dark .jupyter-button {\n",
       "                    --jp-layout-color3: #383838;\n",
       "                }\n",
       "\n",
       "                .geemap-colab {\n",
       "                    background-color: var(--colab-primary-surface-color, white);\n",
       "                }\n",
       "\n",
       "                .geemap-colab .jupyter-button {\n",
       "                    --jp-layout-color3: var(--colab-primary-surface-color, white);\n",
       "                }\n",
       "            </style>\n",
       "            "
      ],
      "text/plain": [
       "<IPython.core.display.HTML object>"
      ]
     },
     "metadata": {},
     "output_type": "display_data"
    }
   ],
   "source": [
    "# Definir las bandas y filtrar la colección Sentinel-2\n",
    "bandas = ['B2', 'B3', 'B4', 'B5','B6','B8','B8A','B9','B11','B12']\n",
    "\n",
    "# Función para enmascarar nubes y convertir a reflectancia\n",
    "def maskS2clouds(image):\n",
    "    qa = image.select('QA60')\n",
    "    cloudBitMask = 1 << 10\n",
    "    cirrusBitMask = 1 << 11\n",
    "    mask = qa.bitwiseAnd(cloudBitMask).eq(0).And(qa.bitwiseAnd(cirrusBitMask).eq(0))\n",
    "    \n",
    "    # Aplicar la máscara, dividir por 10000 y conservar solo las bandas ópticas\n",
    "    return image.updateMask(mask).divide(10000).select(bandas)\n",
    "\n",
    "# Filtrar, mapear, calcular mediana y recortar\n",
    "sentinel2 = (\n",
    "    ee.ImageCollection('COPERNICUS/S2_SR_HARMONIZED')\n",
    "    .filterDate('2023-01-01', '2023-12-31')\n",
    "    .filter(ee.Filter.lt('CLOUDY_PIXEL_PERCENTAGE', 20))\n",
    "    .filterBounds(aoi_ee)\n",
    "    .map(maskS2clouds)\n",
    "    .median()\n",
    "    .clip(aoi_ee)\n",
    ")\n",
    "\n",
    "# --- Configuración para Visualización con geemap ---\n",
    "\n",
    "# Parámetros de visualización para la imagen Sentinel-2 (RGB natural)\n",
    "# B4 (Red), B3 (Green), B2 (Blue)\n",
    "sentinel_vis_params = {\n",
    "    'min': 0,\n",
    "    'max': 3000, # Ajusta estos valores según la luminosidad deseada\n",
    "    'bands': ['B4', 'B3', 'B2']\n",
    "}\n",
    "\n",
    "# Parámetros de visualización para el AOI (opcional, para resaltar el polígono)\n",
    "aoi_vis_params = {\n",
    "    'color': 'FF0000', # Rojo en formato hexadecimal (RGB)\n",
    "    'width': 2,        # Ancho del borde\n",
    "    'fillColor': '00000000' # Fondo transparente (ARGB: 00 = alfa totalmente transparente)\n",
    "}"
   ]
  },
  {
   "cell_type": "markdown",
   "id": "d770e26b-be87-4de1-a8ba-a1c693e3cd80",
   "metadata": {},
   "source": [
    "## 1.4 Crear un mapa interactivo centrado en el área de estudio"
   ]
  },
  {
   "cell_type": "code",
   "execution_count": 12,
   "id": "c3d0ed43-52fc-49ad-b269-99706408cee2",
   "metadata": {},
   "outputs": [
    {
     "data": {
      "text/html": [
       "\n",
       "            <style>\n",
       "                .geemap-dark {\n",
       "                    --jp-widgets-color: white;\n",
       "                    --jp-widgets-label-color: white;\n",
       "                    --jp-ui-font-color1: white;\n",
       "                    --jp-layout-color2: #454545;\n",
       "                    background-color: #383838;\n",
       "                }\n",
       "\n",
       "                .geemap-dark .jupyter-button {\n",
       "                    --jp-layout-color3: #383838;\n",
       "                }\n",
       "\n",
       "                .geemap-colab {\n",
       "                    background-color: var(--colab-primary-surface-color, white);\n",
       "                }\n",
       "\n",
       "                .geemap-colab .jupyter-button {\n",
       "                    --jp-layout-color3: var(--colab-primary-surface-color, white);\n",
       "                }\n",
       "            </style>\n",
       "            "
      ],
      "text/plain": [
       "<IPython.core.display.HTML object>"
      ]
     },
     "metadata": {},
     "output_type": "display_data"
    },
    {
     "data": {
      "application/vnd.jupyter.widget-view+json": {
       "model_id": "2013b58d8b254eea806f0c9dae75768b",
       "version_major": 2,
       "version_minor": 0
      },
      "text/plain": [
       "Map(center=[-3.439523286382691, -70.1442113276866], controls=(WidgetControl(options=['position', 'transparent_…"
      ]
     },
     "execution_count": 12,
     "metadata": {},
     "output_type": "execute_result"
    }
   ],
   "source": [
    "\n",
    "# Usamos el centroide del primer polígono del gdf para el centrado inicial del mapa\n",
    "Map = geemap.Map(center=[gdf_aoi.geometry[0].centroid.y, gdf_aoi.geometry[0].centroid.x], zoom=9)\n",
    "\n",
    "# Agregar la imagen Sentinel-2 al mapa\n",
    "Map.addLayer(sentinel2, sentinel_vis_params, 'Sentinel-2 (2023-11-01 to 2023-12-31)')\n",
    "\n",
    "# Agregar el AOI (FeatureCollection) al mapa\n",
    "Map.addLayer(aoi_ee, aoi_vis_params, 'Área de Interés (AOI)')\n",
    "\n",
    "# Añadir control de capas para encender/apagar y ajustar la opacidad\n",
    "Map.addLayerControl()\n",
    "\n",
    "# Mostrar el mapa\n",
    "Map"
   ]
  },
  {
   "cell_type": "markdown",
   "id": "d6e1e2d9-862a-4005-899d-363b3e980265",
   "metadata": {},
   "source": [
    "## 1.5 Extracción de variables explicativas como índices y bandas de interes para el modelo"
   ]
  },
  {
   "cell_type": "code",
   "execution_count": 15,
   "id": "27fdc8b6-0d01-4114-aa1d-9d27e03fa939",
   "metadata": {},
   "outputs": [
    {
     "data": {
      "text/html": [
       "\n",
       "            <style>\n",
       "                .geemap-dark {\n",
       "                    --jp-widgets-color: white;\n",
       "                    --jp-widgets-label-color: white;\n",
       "                    --jp-ui-font-color1: white;\n",
       "                    --jp-layout-color2: #454545;\n",
       "                    background-color: #383838;\n",
       "                }\n",
       "\n",
       "                .geemap-dark .jupyter-button {\n",
       "                    --jp-layout-color3: #383838;\n",
       "                }\n",
       "\n",
       "                .geemap-colab {\n",
       "                    background-color: var(--colab-primary-surface-color, white);\n",
       "                }\n",
       "\n",
       "                .geemap-colab .jupyter-button {\n",
       "                    --jp-layout-color3: var(--colab-primary-surface-color, white);\n",
       "                }\n",
       "            </style>\n",
       "            "
      ],
      "text/plain": [
       "<IPython.core.display.HTML object>"
      ]
     },
     "metadata": {},
     "output_type": "display_data"
    }
   ],
   "source": [
    "import sys\n",
    "sys.path.append('C:/Users/Equipo/SemDocker/ProyectoProgramacionSIG/src_25_07_04/src')\n",
    "import indices_sentinel2"
   ]
  },
  {
   "cell_type": "code",
   "execution_count": 16,
   "id": "8c15ff30-9256-470d-9fff-4f7d91a602e5",
   "metadata": {},
   "outputs": [
    {
     "data": {
      "text/html": [
       "\n",
       "            <style>\n",
       "                .geemap-dark {\n",
       "                    --jp-widgets-color: white;\n",
       "                    --jp-widgets-label-color: white;\n",
       "                    --jp-ui-font-color1: white;\n",
       "                    --jp-layout-color2: #454545;\n",
       "                    background-color: #383838;\n",
       "                }\n",
       "\n",
       "                .geemap-dark .jupyter-button {\n",
       "                    --jp-layout-color3: #383838;\n",
       "                }\n",
       "\n",
       "                .geemap-colab {\n",
       "                    background-color: var(--colab-primary-surface-color, white);\n",
       "                }\n",
       "\n",
       "                .geemap-colab .jupyter-button {\n",
       "                    --jp-layout-color3: var(--colab-primary-surface-color, white);\n",
       "                }\n",
       "            </style>\n",
       "            "
      ],
      "text/plain": [
       "<IPython.core.display.HTML object>"
      ]
     },
     "metadata": {},
     "output_type": "display_data"
    }
   ],
   "source": [
    "from indices_sentinel2 import indices_sentinel2\n",
    "\n",
    "image_indices = indices_sentinel2(sentinel2)"
   ]
  },
  {
   "cell_type": "code",
   "execution_count": 17,
   "id": "86f4e383-dd54-4013-a3ef-4ea44425d8e5",
   "metadata": {},
   "outputs": [
    {
     "data": {
      "text/html": [
       "\n",
       "            <style>\n",
       "                .geemap-dark {\n",
       "                    --jp-widgets-color: white;\n",
       "                    --jp-widgets-label-color: white;\n",
       "                    --jp-ui-font-color1: white;\n",
       "                    --jp-layout-color2: #454545;\n",
       "                    background-color: #383838;\n",
       "                }\n",
       "\n",
       "                .geemap-dark .jupyter-button {\n",
       "                    --jp-layout-color3: #383838;\n",
       "                }\n",
       "\n",
       "                .geemap-colab {\n",
       "                    background-color: var(--colab-primary-surface-color, white);\n",
       "                }\n",
       "\n",
       "                .geemap-colab .jupyter-button {\n",
       "                    --jp-layout-color3: var(--colab-primary-surface-color, white);\n",
       "                }\n",
       "            </style>\n",
       "            "
      ],
      "text/plain": [
       "<IPython.core.display.HTML object>"
      ]
     },
     "metadata": {},
     "output_type": "display_data"
    },
    {
     "name": "stdout",
     "output_type": "stream",
     "text": [
      "['NDVI', 'EVI', 'BSI', 'RED', 'NIR', 'SWIR1', 'SWIR2']\n"
     ]
    }
   ],
   "source": [
    "print (image_indices.bandNames().getInfo())"
   ]
  },
  {
   "cell_type": "code",
   "execution_count": 18,
   "id": "9aeb72ac-19b2-4941-aba3-96ddb65e8f9d",
   "metadata": {},
   "outputs": [
    {
     "data": {
      "text/html": [
       "\n",
       "            <style>\n",
       "                .geemap-dark {\n",
       "                    --jp-widgets-color: white;\n",
       "                    --jp-widgets-label-color: white;\n",
       "                    --jp-ui-font-color1: white;\n",
       "                    --jp-layout-color2: #454545;\n",
       "                    background-color: #383838;\n",
       "                }\n",
       "\n",
       "                .geemap-dark .jupyter-button {\n",
       "                    --jp-layout-color3: #383838;\n",
       "                }\n",
       "\n",
       "                .geemap-colab {\n",
       "                    background-color: var(--colab-primary-surface-color, white);\n",
       "                }\n",
       "\n",
       "                .geemap-colab .jupyter-button {\n",
       "                    --jp-layout-color3: var(--colab-primary-surface-color, white);\n",
       "                }\n",
       "            </style>\n",
       "            "
      ],
      "text/plain": [
       "<IPython.core.display.HTML object>"
      ]
     },
     "metadata": {},
     "output_type": "display_data"
    }
   ],
   "source": [
    "image_indices_64 = image_indices.toDouble()"
   ]
  },
  {
   "cell_type": "markdown",
   "id": "4db07faf-4a2c-4b17-9cff-0b831f99bec6",
   "metadata": {},
   "source": [
    "## 1.6. Exportar la composción de Sentinel-2"
   ]
  },
  {
   "cell_type": "code",
   "execution_count": 19,
   "id": "5a340049-8074-4fc6-9de3-872c3500f4a2",
   "metadata": {},
   "outputs": [
    {
     "data": {
      "text/html": [
       "\n",
       "            <style>\n",
       "                .geemap-dark {\n",
       "                    --jp-widgets-color: white;\n",
       "                    --jp-widgets-label-color: white;\n",
       "                    --jp-ui-font-color1: white;\n",
       "                    --jp-layout-color2: #454545;\n",
       "                    background-color: #383838;\n",
       "                }\n",
       "\n",
       "                .geemap-dark .jupyter-button {\n",
       "                    --jp-layout-color3: #383838;\n",
       "                }\n",
       "\n",
       "                .geemap-colab {\n",
       "                    background-color: var(--colab-primary-surface-color, white);\n",
       "                }\n",
       "\n",
       "                .geemap-colab .jupyter-button {\n",
       "                    --jp-layout-color3: var(--colab-primary-surface-color, white);\n",
       "                }\n",
       "            </style>\n",
       "            "
      ],
      "text/plain": [
       "<IPython.core.display.HTML object>"
      ]
     },
     "metadata": {},
     "output_type": "display_data"
    },
    {
     "name": "stdout",
     "output_type": "stream",
     "text": [
      "Export task started. Monitor progress in the Earth Engine Tasks tab.\n"
     ]
    }
   ],
   "source": [
    "# Export the composite image to Google Drive\n",
    "task = ee.batch.Export.image.toDrive(\n",
    "    image=image_indices_64,\n",
    "    description='Sentinel2_INDEX_Proyecto',\n",
    "    folder='earthengine',            # Destination folder in Google Drive\n",
    "    fileNamePrefix='sentinel2_index_proye', # File name without extension\n",
    "    region=aoi_ee,                   # Area to export\n",
    "    scale=10,                        # Set a very high limit to allow exporting large images\n",
    "                                     # Earth Engine requires this to avoid exporting by mistake very large rasters\n",
    "                                     # The default limit is 1e8 (100 million pixels), so we override it here\n",
    "\n",
    "    maxPixels=1e13,                  # Allow large exports\n",
    "    fileFormat='GeoTIFF'\n",
    ")\n",
    "\n",
    "# Start the export task\n",
    "task.start()\n",
    "\n",
    "print(\"Export task started. Monitor progress in the Earth Engine Tasks tab.\")"
   ]
  }
 ],
 "metadata": {
  "kernelspec": {
   "display_name": "Python 3 (ipykernel)",
   "language": "python",
   "name": "python3"
  },
  "language_info": {
   "codemirror_mode": {
    "name": "ipython",
    "version": 3
   },
   "file_extension": ".py",
   "mimetype": "text/x-python",
   "name": "python",
   "nbconvert_exporter": "python",
   "pygments_lexer": "ipython3",
   "version": "3.11.9"
  }
 },
 "nbformat": 4,
 "nbformat_minor": 5
}
