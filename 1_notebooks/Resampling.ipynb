{
 "cells": [
  {
   "cell_type": "markdown",
   "id": "2040b04b-de5c-4ae7-9610-91e844f0d6ec",
   "metadata": {},
   "source": [
    "# **1. REPROYECCIÓN MULTIPLES DATOS RASTER**\n",
    "\n",
    "Permite automatizar tareas de preprocesamiento esenciales en el ámbito de la programación SIG, asegurando que todos los conjuntos de datos estén espacialmente alineados para análisis posteriores, como la construcción de modelos machine learning."
   ]
  },
  {
   "cell_type": "markdown",
   "id": "57a391c7-53d6-4f3f-b095-c917f215655b",
   "metadata": {},
   "source": [
    "## 1.1 Importación de librerias y configuración de rutas"
   ]
  },
  {
   "cell_type": "code",
   "execution_count": 3,
   "id": "bd8ba6b4-552f-45d9-8e85-9b374598bf6a",
   "metadata": {},
   "outputs": [
    {
     "name": "stdout",
     "output_type": "stream",
     "text": [
      " Procesado: gedi.tif (1 banda(s))\n",
      " Procesado: mapbiomas_amacayacu_2023.tif (1 banda(s))\n",
      " Procesado: SAR_PW.tif (2 banda(s))\n",
      " Procesado: sentinel2_index_proye.tif (7 banda(s))\n",
      "\n",
      " Todos los archivos fueron procesados sin errores.\n"
     ]
    }
   ],
   "source": [
    "import os\n",
    "import rasterio\n",
    "from rasterio.enums import Resampling\n",
    "from rasterio.warp import reproject\n",
    "import numpy as np\n",
    "\n",
    "# Ruta base en entorno Docker (ajustado para contenedor)\n",
    "carpeta = 'C:/Users/Equipo/SemDocker/ProyectoProgramacionSIG/Data/Imagenes_25_07_12_v2'\n",
    "dem_path = os.path.join(carpeta, 'DEM9377.tif')\n",
    "log_path = os.path.join(carpeta, 'log_resampleo.txt')"
   ]
  },
  {
   "cell_type": "markdown",
   "id": "5e5d8fda-b61c-48fe-ac0d-27304a606bd7",
   "metadata": {},
   "source": [
    "## 1.2 Apertura del DEM de referencia y lista de archivos a procesar"
   ]
  },
  {
   "cell_type": "code",
   "execution_count": null,
   "id": "acd753d9-5eb2-432e-b06d-1ebe81ef2004",
   "metadata": {},
   "outputs": [],
   "source": [
    "# Abrir DEM9377 para usar como plantilla\n",
    "with rasterio.open(dem_path) as dem_ref:\n",
    "    dst_crs = dem_ref.crs\n",
    "    dst_transform = dem_ref.transform\n",
    "    dst_width = dem_ref.width\n",
    "    dst_height = dem_ref.height\n",
    "    dst_profile = dem_ref.profile.copy()\n",
    "\n",
    "# Lista de archivos .tif a procesar (excluyendo los ya procesados)\n",
    "imagenes = [f for f in os.listdir(carpeta)\n",
    "            if f.endswith('.tif') and f not in ['DEM.tif', 'DEM9377.tif']]"
   ]
  },
  {
   "cell_type": "markdown",
   "id": "e8d45e8f-d1d2-4d6d-921c-df258644b5ea",
   "metadata": {},
   "source": [
    "## 1.3 Bucle principal de procesamiento"
   ]
  },
  {
   "cell_type": "code",
   "execution_count": null,
   "id": "c9b3877f-b59a-42f9-94b0-c395e999aa7e",
   "metadata": {},
   "outputs": [],
   "source": [
    "# Inicializar log de errores\n",
    "errores = []\n",
    "\n",
    "for nombre in imagenes:\n",
    "    entrada_path = os.path.join(carpeta, nombre)\n",
    "    salida_path = os.path.join(carpeta, nombre.replace('.tif', '_resampleado9377.tif'))\n",
    "\n",
    "    # Selección del método de resampleo\n",
    "    if nombre in ['mapbiomas_amacayacu_2023.tif', 'gedi.tif']:\n",
    "        metodo_resampleo = Resampling.nearest\n",
    "    else:\n",
    "        metodo_resampleo = Resampling.bilinear\n",
    "\n",
    "    try:\n",
    "        with rasterio.open(entrada_path) as src:\n",
    "            # Determinar el tipo de dato\n",
    "            tipo = src.dtypes[0]\n",
    "            nodata = src.nodata\n",
    "\n",
    "            # Asignar nodata válido si no está definido\n",
    "            if nodata is None:\n",
    "                if tipo == 'uint8':\n",
    "                    nodata = 255\n",
    "                elif tipo == 'uint16':\n",
    "                    nodata = 65535\n",
    "                elif tipo in ['int16', 'int32']:\n",
    "                    nodata = -9999\n",
    "                elif tipo.startswith('float'):\n",
    "                    nodata = -9999.0\n",
    "                else:\n",
    "                    raise ValueError(f\"Tipo de dato no reconocido: {tipo}\")\n",
    "\n",
    "            # Crear array de salida lleno con nodata\n",
    "            data_resampled = np.full(\n",
    "                (src.count, dst_height, dst_width),\n",
    "                nodata,\n",
    "                dtype=tipo\n",
    "            )\n",
    "\n",
    "            # Reproyección banda por banda\n",
    "            for i in range(1, src.count + 1):\n",
    "                reproject(\n",
    "                    source=rasterio.band(src, i),\n",
    "                    destination=data_resampled[i - 1],\n",
    "                    src_transform=src.transform,\n",
    "                    src_crs=src.crs,\n",
    "                    dst_transform=dst_transform,\n",
    "                    dst_crs=dst_crs,\n",
    "                    resampling=metodo_resampleo,\n",
    "                    src_nodata=nodata,\n",
    "                    dst_nodata=nodata\n",
    "                )\n",
    "\n",
    "            # Actualizar metadatos\n",
    "            new_profile = dst_profile.copy()\n",
    "            new_profile.update({\n",
    "                'height': dst_height,\n",
    "                'width': dst_width,\n",
    "                'transform': dst_transform,\n",
    "                'count': src.count,\n",
    "                'dtype': tipo,\n",
    "                'nodata': nodata\n",
    "            })\n",
    "\n",
    "            # Guardar archivo reproyectado\n",
    "            with rasterio.open(salida_path, 'w', **new_profile) as dst:\n",
    "                dst.write(data_resampled)\n",
    "\n",
    "            print(f' Procesado: {nombre} ({src.count} banda(s))')\n",
    "\n",
    "    except Exception as e:\n",
    "        errores.append(f'{nombre}: {str(e)}')\n",
    "        print(f' Error con {nombre}: {str(e)}')\n",
    "\n",
    "# Guardar log de errores\n",
    "if errores:\n",
    "    with open(log_path, 'w') as f:\n",
    "        for error in errores:\n",
    "            f.write(f'{error}\\n')\n",
    "    print(f'\\n Log guardado en: {log_path}')\n",
    "else:\n",
    "    print('\\n Todos los archivos fueron procesados sin errores.')"
   ]
  }
 ],
 "metadata": {
  "kernelspec": {
   "display_name": "Python 3 (ipykernel)",
   "language": "python",
   "name": "python3"
  },
  "language_info": {
   "codemirror_mode": {
    "name": "ipython",
    "version": 3
   },
   "file_extension": ".py",
   "mimetype": "text/x-python",
   "name": "python",
   "nbconvert_exporter": "python",
   "pygments_lexer": "ipython3",
   "version": "3.11.9"
  }
 },
 "nbformat": 4,
 "nbformat_minor": 5
}
