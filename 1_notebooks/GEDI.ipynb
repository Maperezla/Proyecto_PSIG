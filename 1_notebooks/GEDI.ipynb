{
 "cells": [
  {
   "cell_type": "markdown",
   "id": "c781ea03-0d54-43a1-b266-c6fca13ab543",
   "metadata": {},
   "source": [
    "#       **1.PRE-PROCESAMIENTO DE IMAGENES GEDI**"
   ]
  },
  {
   "cell_type": "markdown",
   "id": "b06b023e-d023-4119-b195-f5d94bb14258",
   "metadata": {},
   "source": [
    "Permite el analisis de imagenes satelitales en la nube utilizando Google Earth Engine; se obtiene una imagen GEDI con datos de entrenamiento y validación para el modelo, suministrando información de Densidad de Biomasa aérea en unidades de Mg/ha. "
   ]
  },
  {
   "cell_type": "markdown",
   "id": "d10466b9-7b3c-45b3-84c9-e20eb49fd1e7",
   "metadata": {},
   "source": [
    "## 1.1 Importar librerias y cargar área de interés"
   ]
  },
  {
   "cell_type": "code",
   "execution_count": 1,
   "id": "da3c7fb0-b0e3-42ee-9fa9-db78de684e01",
   "metadata": {},
   "outputs": [],
   "source": [
    "import geopandas as gpd\n",
    "import pandas as pd\n",
    "import matplotlib.pyplot as plt\n",
    "from shapely.geometry import Point\n",
    "import contextily as ctx\n",
    "import shapely\n",
    "import ee\n",
    "import geemap"
   ]
  },
  {
   "cell_type": "code",
   "execution_count": 2,
   "id": "58aa92ee-ee21-4767-8cd2-7ce361cfb375",
   "metadata": {},
   "outputs": [
    {
     "data": {
      "text/html": [
       "\n",
       "            <style>\n",
       "                .geemap-dark {\n",
       "                    --jp-widgets-color: white;\n",
       "                    --jp-widgets-label-color: white;\n",
       "                    --jp-ui-font-color1: white;\n",
       "                    --jp-layout-color2: #454545;\n",
       "                    background-color: #383838;\n",
       "                }\n",
       "\n",
       "                .geemap-dark .jupyter-button {\n",
       "                    --jp-layout-color3: #383838;\n",
       "                }\n",
       "\n",
       "                .geemap-colab {\n",
       "                    background-color: var(--colab-primary-surface-color, white);\n",
       "                }\n",
       "\n",
       "                .geemap-colab .jupyter-button {\n",
       "                    --jp-layout-color3: var(--colab-primary-surface-color, white);\n",
       "                }\n",
       "            </style>\n",
       "            "
      ],
      "text/plain": [
       "<IPython.core.display.HTML object>"
      ]
     },
     "metadata": {},
     "output_type": "display_data"
    }
   ],
   "source": [
    "# Trigger the authentication flow.\n",
    "ee.Authenticate()\n",
    "\n",
    "# Initialize the library.\n",
    "ee.Initialize(project='ee-coberturap')"
   ]
  },
  {
   "cell_type": "code",
   "execution_count": 3,
   "id": "1a18d1b0-370d-4c9c-af32-d4388c4032d4",
   "metadata": {},
   "outputs": [
    {
     "data": {
      "text/html": [
       "\n",
       "            <style>\n",
       "                .geemap-dark {\n",
       "                    --jp-widgets-color: white;\n",
       "                    --jp-widgets-label-color: white;\n",
       "                    --jp-ui-font-color1: white;\n",
       "                    --jp-layout-color2: #454545;\n",
       "                    background-color: #383838;\n",
       "                }\n",
       "\n",
       "                .geemap-dark .jupyter-button {\n",
       "                    --jp-layout-color3: #383838;\n",
       "                }\n",
       "\n",
       "                .geemap-colab {\n",
       "                    background-color: var(--colab-primary-surface-color, white);\n",
       "                }\n",
       "\n",
       "                .geemap-colab .jupyter-button {\n",
       "                    --jp-layout-color3: var(--colab-primary-surface-color, white);\n",
       "                }\n",
       "            </style>\n",
       "            "
      ],
      "text/plain": [
       "<IPython.core.display.HTML object>"
      ]
     },
     "metadata": {},
     "output_type": "display_data"
    },
    {
     "data": {
      "text/html": [
       "<div>\n",
       "<style scoped>\n",
       "    .dataframe tbody tr th:only-of-type {\n",
       "        vertical-align: middle;\n",
       "    }\n",
       "\n",
       "    .dataframe tbody tr th {\n",
       "        vertical-align: top;\n",
       "    }\n",
       "\n",
       "    .dataframe thead th {\n",
       "        text-align: right;\n",
       "    }\n",
       "</style>\n",
       "<table border=\"1\" class=\"dataframe\">\n",
       "  <thead>\n",
       "    <tr style=\"text-align: right;\">\n",
       "      <th></th>\n",
       "      <th>objectid_1</th>\n",
       "      <th>nombre</th>\n",
       "      <th>categoria</th>\n",
       "      <th>territoria</th>\n",
       "      <th>resolucion</th>\n",
       "      <th>hectareas_</th>\n",
       "      <th>escala</th>\n",
       "      <th>organizaci</th>\n",
       "      <th>fecha_act</th>\n",
       "      <th>url</th>\n",
       "      <th>...</th>\n",
       "      <th>centroid_y</th>\n",
       "      <th>fecha_regi</th>\n",
       "      <th>validado</th>\n",
       "      <th>hectarea_1</th>\n",
       "      <th>perimetro_</th>\n",
       "      <th>administra</th>\n",
       "      <th>id_pnn</th>\n",
       "      <th>record_id</th>\n",
       "      <th>app_id</th>\n",
       "      <th>geometry</th>\n",
       "    </tr>\n",
       "  </thead>\n",
       "  <tbody>\n",
       "    <tr>\n",
       "      <th>0</th>\n",
       "      <td>198761</td>\n",
       "      <td>Amacayacu</td>\n",
       "      <td>Parque Nacional Natural</td>\n",
       "      <td>Territorial Amazonia</td>\n",
       "      <td>283</td>\n",
       "      <td>267480.32</td>\n",
       "      <td>None</td>\n",
       "      <td>Parques Nacionales Naturales de Colombia</td>\n",
       "      <td>2011-06-30</td>\n",
       "      <td>https://runap.parquesnacionales.gov.co/area-pr...</td>\n",
       "      <td>...</td>\n",
       "      <td>-3.439523</td>\n",
       "      <td>2011-06-30</td>\n",
       "      <td>Si</td>\n",
       "      <td>267240.603115</td>\n",
       "      <td>None</td>\n",
       "      <td>PNNC</td>\n",
       "      <td>27</td>\n",
       "      <td>2069</td>\n",
       "      <td>1</td>\n",
       "      <td>POLYGON ((5331866.854 1221528.042, 5331899.919...</td>\n",
       "    </tr>\n",
       "  </tbody>\n",
       "</table>\n",
       "<p>1 rows × 22 columns</p>\n",
       "</div>"
      ],
      "text/plain": [
       "   objectid_1     nombre                categoria            territoria  \\\n",
       "0      198761  Amacayacu  Parque Nacional Natural  Territorial Amazonia   \n",
       "\n",
       "  resolucion  hectareas_ escala                                organizaci  \\\n",
       "0        283   267480.32   None  Parques Nacionales Naturales de Colombia   \n",
       "\n",
       "    fecha_act                                                url  ...  \\\n",
       "0  2011-06-30  https://runap.parquesnacionales.gov.co/area-pr...  ...   \n",
       "\n",
       "  centroid_y  fecha_regi  validado     hectarea_1 perimetro_  administra  \\\n",
       "0  -3.439523  2011-06-30        Si  267240.603115       None        PNNC   \n",
       "\n",
       "  id_pnn record_id  app_id                                           geometry  \n",
       "0     27      2069       1  POLYGON ((5331866.854 1221528.042, 5331899.919...  \n",
       "\n",
       "[1 rows x 22 columns]"
      ]
     },
     "execution_count": 3,
     "metadata": {},
     "output_type": "execute_result"
    }
   ],
   "source": [
    "# --- File paths  ---\n",
    "root_folder=r\"/notebooks/ProyectoFinal/Shapes/\"\n",
    "adi_route = root_folder+'/PNNAmacayacu.shp'\n",
    "adi = gpd.read_file(adi_route).to_crs(epsg=9377)\n",
    "adi"
   ]
  },
  {
   "cell_type": "markdown",
   "id": "562e0ae4-0b23-4ff5-9652-948796dc10d7",
   "metadata": {},
   "source": [
    "## 1.2 Convertir geometria local a formato Earth Engine"
   ]
  },
  {
   "cell_type": "code",
   "execution_count": 4,
   "id": "3fa5e30b-f7e5-466c-937b-39aae9ec54a4",
   "metadata": {},
   "outputs": [
    {
     "data": {
      "text/html": [
       "\n",
       "            <style>\n",
       "                .geemap-dark {\n",
       "                    --jp-widgets-color: white;\n",
       "                    --jp-widgets-label-color: white;\n",
       "                    --jp-ui-font-color1: white;\n",
       "                    --jp-layout-color2: #454545;\n",
       "                    background-color: #383838;\n",
       "                }\n",
       "\n",
       "                .geemap-dark .jupyter-button {\n",
       "                    --jp-layout-color3: #383838;\n",
       "                }\n",
       "\n",
       "                .geemap-colab {\n",
       "                    background-color: var(--colab-primary-surface-color, white);\n",
       "                }\n",
       "\n",
       "                .geemap-colab .jupyter-button {\n",
       "                    --jp-layout-color3: var(--colab-primary-surface-color, white);\n",
       "                }\n",
       "            </style>\n",
       "            "
      ],
      "text/plain": [
       "<IPython.core.display.HTML object>"
      ]
     },
     "metadata": {},
     "output_type": "display_data"
    }
   ],
   "source": [
    "ee_fc = geemap.gdf_to_ee(adi)     # Esto convierte todo el shapefile a una EE FeatureCollection\n",
    "adi = ee_fc.geometry()"
   ]
  },
  {
   "cell_type": "markdown",
   "id": "606b9011-d308-4ab6-b13d-ebfc427fb429",
   "metadata": {},
   "source": [
    "## 1.3 Llamar la colección GEDI04_MONTHLY de GEDI y seleccionar las bandas de interés"
   ]
  },
  {
   "cell_type": "code",
   "execution_count": 5,
   "id": "aae0bfb9-d991-43f3-8f77-0dbe544f4776",
   "metadata": {},
   "outputs": [
    {
     "data": {
      "text/html": [
       "\n",
       "            <style>\n",
       "                .geemap-dark {\n",
       "                    --jp-widgets-color: white;\n",
       "                    --jp-widgets-label-color: white;\n",
       "                    --jp-ui-font-color1: white;\n",
       "                    --jp-layout-color2: #454545;\n",
       "                    background-color: #383838;\n",
       "                }\n",
       "\n",
       "                .geemap-dark .jupyter-button {\n",
       "                    --jp-layout-color3: #383838;\n",
       "                }\n",
       "\n",
       "                .geemap-colab {\n",
       "                    background-color: var(--colab-primary-surface-color, white);\n",
       "                }\n",
       "\n",
       "                .geemap-colab .jupyter-button {\n",
       "                    --jp-layout-color3: var(--colab-primary-surface-color, white);\n",
       "                }\n",
       "            </style>\n",
       "            "
      ],
      "text/plain": [
       "<IPython.core.display.HTML object>"
      ]
     },
     "metadata": {},
     "output_type": "display_data"
    },
    {
     "name": "stdout",
     "output_type": "stream",
     "text": [
      "Número de imágenes: 3\n",
      "Nombres de las imágenes:\n",
      "1: LARSE/GEDI/GEDI04_A_002_MONTHLY/202301_072W_006S\n",
      "2: LARSE/GEDI/GEDI04_A_002_MONTHLY/202302_072W_006S\n",
      "3: LARSE/GEDI/GEDI04_A_002_MONTHLY/202303_072W_006S\n"
     ]
    }
   ],
   "source": [
    "dataset = (ee.ImageCollection('LARSE/GEDI/GEDI04_A_002_MONTHLY')\n",
    "           .filterDate('2023-01-01', '2023-12-28')\n",
    "           .filterBounds(adi))\n",
    "\n",
    "info = dataset.getInfo()\n",
    "print('Número de imágenes:', len(info['features']))\n",
    "# Limitar a las primeras 10 imágenes para evitar sobrecargar Jupyter\n",
    "coleccion_limitada = dataset.limit(20)\n",
    "\n",
    "# Extraer los IDs de las imágenes\n",
    "ids = coleccion_limitada.aggregate_array('system:id').getInfo()\n",
    "\n",
    "# Imprimir los nombres (IDs)\n",
    "print(\"Nombres de las imágenes:\")\n",
    "for i, nombre in enumerate(ids):\n",
    "    print(f\"{i+1}: {nombre}\")\n"
   ]
  },
  {
   "cell_type": "markdown",
   "id": "a0327d8f-fbfc-4b49-8afe-2deb96f037b4",
   "metadata": {},
   "source": [
    "## 1.4 Realizar la corrección de los datos de GEDI con máscaras de error de las mediciones\n",
    "\n",
    "Se realiza también un mapa interactivo de visualización de la colección"
   ]
  },
  {
   "cell_type": "code",
   "execution_count": 6,
   "id": "7f1f35ce-5811-4395-8a82-dcd5e0eee4f0",
   "metadata": {},
   "outputs": [
    {
     "data": {
      "text/html": [
       "\n",
       "            <style>\n",
       "                .geemap-dark {\n",
       "                    --jp-widgets-color: white;\n",
       "                    --jp-widgets-label-color: white;\n",
       "                    --jp-ui-font-color1: white;\n",
       "                    --jp-layout-color2: #454545;\n",
       "                    background-color: #383838;\n",
       "                }\n",
       "\n",
       "                .geemap-dark .jupyter-button {\n",
       "                    --jp-layout-color3: #383838;\n",
       "                }\n",
       "\n",
       "                .geemap-colab {\n",
       "                    background-color: var(--colab-primary-surface-color, white);\n",
       "                }\n",
       "\n",
       "                .geemap-colab .jupyter-button {\n",
       "                    --jp-layout-color3: var(--colab-primary-surface-color, white);\n",
       "                }\n",
       "            </style>\n",
       "            "
      ],
      "text/plain": [
       "<IPython.core.display.HTML object>"
      ]
     },
     "metadata": {},
     "output_type": "display_data"
    },
    {
     "data": {
      "application/vnd.jupyter.widget-view+json": {
       "model_id": "b1daf796332844fe8c1a36e5e4cf724d",
       "version_major": 2,
       "version_minor": 0
      },
      "text/plain": [
       "Map(center=[0, 0], controls=(WidgetControl(options=['position', 'transparent_bg'], widget=SearchDataGUI(childr…"
      ]
     },
     "execution_count": 6,
     "metadata": {},
     "output_type": "execute_result"
    }
   ],
   "source": [
    "##Function to select highest quality GEDI data\n",
    "def quality_mask(image):\n",
    "    return image.updateMask(image.select('l4_quality_flag').eq(1)) \\\n",
    "                .updateMask(image.select('degrade_flag').eq(0))\n",
    "\n",
    " \n",
    "##Function to mask unreliable GEDI measurements\n",
    "## with a relative standard error > 50% \n",
    "## agbd_se / agbd > 0.5\n",
    "def errorMask(image):\n",
    "  relative_se = image.select('agbd_se').divide(image.select('agbd'))\n",
    "  return image.updateMask(relative_se.lte(0.6));\n",
    "\n",
    "\n",
    "gediProjection = ee.Image(dataset.first()).select('agbd').projection()\n",
    "gediProcessed = dataset.map(quality_mask).map(errorMask)\n",
    "gediMosaic = gediProcessed.mosaic().select('agbd').setDefaultProjection(gediProjection);\n",
    "\n",
    "##Definir los parámetros de visualización\n",
    "agbdVis = {\n",
    "  min: 0,\n",
    "  max: 300,  ##Puedes ajustar según el rango de tus datos\n",
    "  'palette': ['f7fcf5', 'c7e9c0', '74c476', '31a354', '006d2c', '00441b']\n",
    "};\n",
    "\n",
    "Map = geemap.Map()\n",
    "Map.centerObject(adi)\n",
    "Map.addLayer(gediMosaic, agbdVis, 'GEDI AGBD', True, 1)\n",
    "Map.addLayer(adi, {}, 'PNN Amacayacu', 0)\n",
    "Map\n"
   ]
  },
  {
   "cell_type": "markdown",
   "id": "c824a25b-7beb-4c6c-ab44-7f4acd93e5cd",
   "metadata": {},
   "source": [
    "## 1.6. Exportar la composción de GEDI"
   ]
  },
  {
   "cell_type": "code",
   "execution_count": 7,
   "id": "44a4741f-b460-4c7a-b373-07f49a06b432",
   "metadata": {},
   "outputs": [
    {
     "data": {
      "text/html": [
       "\n",
       "            <style>\n",
       "                .geemap-dark {\n",
       "                    --jp-widgets-color: white;\n",
       "                    --jp-widgets-label-color: white;\n",
       "                    --jp-ui-font-color1: white;\n",
       "                    --jp-layout-color2: #454545;\n",
       "                    background-color: #383838;\n",
       "                }\n",
       "\n",
       "                .geemap-dark .jupyter-button {\n",
       "                    --jp-layout-color3: #383838;\n",
       "                }\n",
       "\n",
       "                .geemap-colab {\n",
       "                    background-color: var(--colab-primary-surface-color, white);\n",
       "                }\n",
       "\n",
       "                .geemap-colab .jupyter-button {\n",
       "                    --jp-layout-color3: var(--colab-primary-surface-color, white);\n",
       "                }\n",
       "            </style>\n",
       "            "
      ],
      "text/plain": [
       "<IPython.core.display.HTML object>"
      ]
     },
     "metadata": {},
     "output_type": "display_data"
    },
    {
     "name": "stdout",
     "output_type": "stream",
     "text": [
      "Export task started. Monitor progress in the Earth Engine Tasks tab.\n"
     ]
    }
   ],
   "source": [
    "# Export the composite image to Google Drive\n",
    "task = ee.batch.Export.image.toDrive(\n",
    "    image=gediMosaic,\n",
    "    description='GEDI_TrainingPoints',\n",
    "    folder='earthengine',            # Destination folder in Google Drive\n",
    "    fileNamePrefix='gedi', # File name without extension\n",
    "    region=adi,                   # Area to export\n",
    "    ##scale=25,                        # Set a very high limit to allow exporting large images\n",
    "                                     # Earth Engine requires this to avoid exporting by mistake very large rasters\n",
    "                                     # The default limit is 1e8 (100 million pixels), so we override it here\n",
    "\n",
    "    maxPixels=1e13,                  # Allow large exports\n",
    "    fileFormat='GeoTIFF'\n",
    ")\n",
    "\n",
    "# Start the export task\n",
    "task.start()\n",
    "\n",
    "print(\"Export task started. Monitor progress in the Earth Engine Tasks tab.\")"
   ]
  }
 ],
 "metadata": {
  "kernelspec": {
   "display_name": "Python 3 (ipykernel)",
   "language": "python",
   "name": "python3"
  },
  "language_info": {
   "codemirror_mode": {
    "name": "ipython",
    "version": 3
   },
   "file_extension": ".py",
   "mimetype": "text/x-python",
   "name": "python",
   "nbconvert_exporter": "python",
   "pygments_lexer": "ipython3",
   "version": "3.11.9"
  }
 },
 "nbformat": 4,
 "nbformat_minor": 5
}
