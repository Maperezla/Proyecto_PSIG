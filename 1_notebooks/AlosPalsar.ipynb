{
 "cells": [
  {
   "cell_type": "markdown",
   "id": "e09fd3a6-f63d-456e-868b-5ece298e3488",
   "metadata": {},
   "source": [
    "#       **1. PRE-PROCESAMIENTO DE IMAGENES ALOS PALSAR Y VARIABLES EXPLICATIVAS**"
   ]
  },
  {
   "cell_type": "markdown",
   "id": "42c1e31f-dcca-4efe-83ed-c06bcf158717",
   "metadata": {},
   "source": [
    "Permite el analisis de imagenes satelitales en la nube utilizando Google Earth Engine; permitiendo obtener una imagen  Alos Palsar con índices explicativos para el modelo para el área de interés, de acuerdo con su retrodispersión. \n",
    "Ayuda a obtener información estructural de la vegetación a la que se le medirá la AGBD"
   ]
  },
  {
   "cell_type": "markdown",
   "id": "625f4205-d0d5-42c6-8738-f2d4c004d91a",
   "metadata": {},
   "source": [
    "## 1.1 Importar librerias y cargar área de interés"
   ]
  },
  {
   "cell_type": "code",
   "execution_count": 1,
   "id": "e4f2cede-59b6-4d80-8206-d59786103fb3",
   "metadata": {},
   "outputs": [],
   "source": [
    "import contextily as ctx\n",
    "import ee\n",
    "import geemap\n",
    "import geopandas as gpd\n",
    "import matplotlib.pyplot as plt\n",
    "import pandas as pd\n",
    "import shapely\n",
    "from shapely.geometry import Point"
   ]
  },
  {
   "cell_type": "code",
   "execution_count": 2,
   "id": "95b40bad-1369-4d24-bcfb-2aabd33dd460",
   "metadata": {},
   "outputs": [
    {
     "data": {
      "text/html": [
       "\n",
       "            <style>\n",
       "                .geemap-dark {\n",
       "                    --jp-widgets-color: white;\n",
       "                    --jp-widgets-label-color: white;\n",
       "                    --jp-ui-font-color1: white;\n",
       "                    --jp-layout-color2: #454545;\n",
       "                    background-color: #383838;\n",
       "                }\n",
       "\n",
       "                .geemap-dark .jupyter-button {\n",
       "                    --jp-layout-color3: #383838;\n",
       "                }\n",
       "\n",
       "                .geemap-colab {\n",
       "                    background-color: var(--colab-primary-surface-color, white);\n",
       "                }\n",
       "\n",
       "                .geemap-colab .jupyter-button {\n",
       "                    --jp-layout-color3: var(--colab-primary-surface-color, white);\n",
       "                }\n",
       "            </style>\n",
       "            "
      ],
      "text/plain": [
       "<IPython.core.display.HTML object>"
      ]
     },
     "metadata": {},
     "output_type": "display_data"
    },
    {
     "data": {
      "text/html": [
       "<p>To authorize access needed by Earth Engine, open the following\n",
       "        URL in a web browser and follow the instructions:</p>\n",
       "        <p><a href=https://code.earthengine.google.com/client-auth?scopes=https%3A//www.googleapis.com/auth/earthengine%20https%3A//www.googleapis.com/auth/cloud-platform%20https%3A//www.googleapis.com/auth/drive%20https%3A//www.googleapis.com/auth/devstorage.full_control&request_id=nutHDHFMfsCrOYgGT9edhGhsjkZnCeyfwgxhxkKHWtE&tc=YRNoUiTa7Dsz8DX_FFfXiDkc7w9Q73SFIkPSgcEHnJg&cc=uKEK46VGHQwa-99-r_ofYIRAHoR9OpS7jp0Fpi-KW24>https://code.earthengine.google.com/client-auth?scopes=https%3A//www.googleapis.com/auth/earthengine%20https%3A//www.googleapis.com/auth/cloud-platform%20https%3A//www.googleapis.com/auth/drive%20https%3A//www.googleapis.com/auth/devstorage.full_control&request_id=nutHDHFMfsCrOYgGT9edhGhsjkZnCeyfwgxhxkKHWtE&tc=YRNoUiTa7Dsz8DX_FFfXiDkc7w9Q73SFIkPSgcEHnJg&cc=uKEK46VGHQwa-99-r_ofYIRAHoR9OpS7jp0Fpi-KW24</a></p>\n",
       "        <p>The authorization workflow will generate a code, which you should paste in the box below.</p>\n",
       "        "
      ],
      "text/plain": [
       "<IPython.core.display.HTML object>"
      ]
     },
     "metadata": {},
     "output_type": "display_data"
    },
    {
     "name": "stdin",
     "output_type": "stream",
     "text": [
      "Enter verification code:  4/1AVMBsJjCFpTieqjGTC-8Dy6Gf4-ataUtKxOs39hH67RTEmPptPxNLhe4KK4\n"
     ]
    },
    {
     "name": "stdout",
     "output_type": "stream",
     "text": [
      "\n",
      "Successfully saved authorization token.\n"
     ]
    }
   ],
   "source": [
    "# Trigger the authentication flow.\n",
    "ee.Authenticate()\n",
    "\n",
    "# Initialize the library.\n",
    "ee.Initialize(project=\"ee-coberturap\")"
   ]
  },
  {
   "cell_type": "code",
   "execution_count": 3,
   "id": "c6d1c840-5ec3-4f55-91b8-2051e947ea26",
   "metadata": {},
   "outputs": [
    {
     "data": {
      "text/html": [
       "\n",
       "            <style>\n",
       "                .geemap-dark {\n",
       "                    --jp-widgets-color: white;\n",
       "                    --jp-widgets-label-color: white;\n",
       "                    --jp-ui-font-color1: white;\n",
       "                    --jp-layout-color2: #454545;\n",
       "                    background-color: #383838;\n",
       "                }\n",
       "\n",
       "                .geemap-dark .jupyter-button {\n",
       "                    --jp-layout-color3: #383838;\n",
       "                }\n",
       "\n",
       "                .geemap-colab {\n",
       "                    background-color: var(--colab-primary-surface-color, white);\n",
       "                }\n",
       "\n",
       "                .geemap-colab .jupyter-button {\n",
       "                    --jp-layout-color3: var(--colab-primary-surface-color, white);\n",
       "                }\n",
       "            </style>\n",
       "            "
      ],
      "text/plain": [
       "<IPython.core.display.HTML object>"
      ]
     },
     "metadata": {},
     "output_type": "display_data"
    },
    {
     "data": {
      "text/html": [
       "<div>\n",
       "<style scoped>\n",
       "    .dataframe tbody tr th:only-of-type {\n",
       "        vertical-align: middle;\n",
       "    }\n",
       "\n",
       "    .dataframe tbody tr th {\n",
       "        vertical-align: top;\n",
       "    }\n",
       "\n",
       "    .dataframe thead th {\n",
       "        text-align: right;\n",
       "    }\n",
       "</style>\n",
       "<table border=\"1\" class=\"dataframe\">\n",
       "  <thead>\n",
       "    <tr style=\"text-align: right;\">\n",
       "      <th></th>\n",
       "      <th>objectid_1</th>\n",
       "      <th>nombre</th>\n",
       "      <th>categoria</th>\n",
       "      <th>territoria</th>\n",
       "      <th>resolucion</th>\n",
       "      <th>hectareas_</th>\n",
       "      <th>escala</th>\n",
       "      <th>organizaci</th>\n",
       "      <th>fecha_act</th>\n",
       "      <th>url</th>\n",
       "      <th>...</th>\n",
       "      <th>centroid_y</th>\n",
       "      <th>fecha_regi</th>\n",
       "      <th>validado</th>\n",
       "      <th>hectarea_1</th>\n",
       "      <th>perimetro_</th>\n",
       "      <th>administra</th>\n",
       "      <th>id_pnn</th>\n",
       "      <th>record_id</th>\n",
       "      <th>app_id</th>\n",
       "      <th>geometry</th>\n",
       "    </tr>\n",
       "  </thead>\n",
       "  <tbody>\n",
       "    <tr>\n",
       "      <th>0</th>\n",
       "      <td>198761</td>\n",
       "      <td>Amacayacu</td>\n",
       "      <td>Parque Nacional Natural</td>\n",
       "      <td>Territorial Amazonia</td>\n",
       "      <td>283</td>\n",
       "      <td>267480.32</td>\n",
       "      <td>None</td>\n",
       "      <td>Parques Nacionales Naturales de Colombia</td>\n",
       "      <td>2011-06-30</td>\n",
       "      <td>https://runap.parquesnacionales.gov.co/area-pr...</td>\n",
       "      <td>...</td>\n",
       "      <td>-3.439523</td>\n",
       "      <td>2011-06-30</td>\n",
       "      <td>Si</td>\n",
       "      <td>267240.603115</td>\n",
       "      <td>None</td>\n",
       "      <td>PNNC</td>\n",
       "      <td>27</td>\n",
       "      <td>2069</td>\n",
       "      <td>1</td>\n",
       "      <td>POLYGON ((5331866.854 1221528.042, 5331899.919...</td>\n",
       "    </tr>\n",
       "  </tbody>\n",
       "</table>\n",
       "<p>1 rows × 22 columns</p>\n",
       "</div>"
      ],
      "text/plain": [
       "   objectid_1     nombre                categoria            territoria  \\\n",
       "0      198761  Amacayacu  Parque Nacional Natural  Territorial Amazonia   \n",
       "\n",
       "  resolucion  hectareas_ escala                                organizaci  \\\n",
       "0        283   267480.32   None  Parques Nacionales Naturales de Colombia   \n",
       "\n",
       "    fecha_act                                                url  ...  \\\n",
       "0  2011-06-30  https://runap.parquesnacionales.gov.co/area-pr...  ...   \n",
       "\n",
       "  centroid_y  fecha_regi  validado     hectarea_1 perimetro_  administra  \\\n",
       "0  -3.439523  2011-06-30        Si  267240.603115       None        PNNC   \n",
       "\n",
       "  id_pnn record_id  app_id                                           geometry  \n",
       "0     27      2069       1  POLYGON ((5331866.854 1221528.042, 5331899.919...  \n",
       "\n",
       "[1 rows x 22 columns]"
      ]
     },
     "execution_count": 3,
     "metadata": {},
     "output_type": "execute_result"
    }
   ],
   "source": [
    "# --- File paths  ---\n",
    "root_folder = r\"/notebooks/ProyectoFinal/Shapes/\"\n",
    "adi_route = root_folder + \"/PNNAmacayacu.shp\"\n",
    "adi = gpd.read_file(adi_route).to_crs(epsg=9377)\n",
    "adi"
   ]
  },
  {
   "cell_type": "markdown",
   "id": "cbf719da-2df5-4519-99d0-5177ed914e42",
   "metadata": {},
   "source": [
    "## 1.2 Convertir geometria local a formato Earth Engine\n"
   ]
  },
  {
   "cell_type": "code",
   "execution_count": 4,
   "id": "284333f0-a7b9-471c-b563-f347ba355ebd",
   "metadata": {},
   "outputs": [
    {
     "data": {
      "text/html": [
       "\n",
       "            <style>\n",
       "                .geemap-dark {\n",
       "                    --jp-widgets-color: white;\n",
       "                    --jp-widgets-label-color: white;\n",
       "                    --jp-ui-font-color1: white;\n",
       "                    --jp-layout-color2: #454545;\n",
       "                    background-color: #383838;\n",
       "                }\n",
       "\n",
       "                .geemap-dark .jupyter-button {\n",
       "                    --jp-layout-color3: #383838;\n",
       "                }\n",
       "\n",
       "                .geemap-colab {\n",
       "                    background-color: var(--colab-primary-surface-color, white);\n",
       "                }\n",
       "\n",
       "                .geemap-colab .jupyter-button {\n",
       "                    --jp-layout-color3: var(--colab-primary-surface-color, white);\n",
       "                }\n",
       "            </style>\n",
       "            "
      ],
      "text/plain": [
       "<IPython.core.display.HTML object>"
      ]
     },
     "metadata": {},
     "output_type": "display_data"
    }
   ],
   "source": [
    "ee_fc = geemap.gdf_to_ee(\n",
    "    adi\n",
    ")  # Esto convierte todo el shapefile a una EE FeatureCollection\n",
    "adi = ee_fc.geometry()"
   ]
  },
  {
   "cell_type": "markdown",
   "id": "21759c6d-e34c-4aa4-8fc6-9855450ac2ff",
   "metadata": {},
   "source": [
    "## 1.3 Llamar la colección ScanSAR de Alos Pasar y seleccionar las bandas de interés"
   ]
  },
  {
   "cell_type": "code",
   "execution_count": 5,
   "id": "94fab6fa-c0e4-4c79-ac82-352e801832d3",
   "metadata": {},
   "outputs": [
    {
     "data": {
      "text/html": [
       "\n",
       "            <style>\n",
       "                .geemap-dark {\n",
       "                    --jp-widgets-color: white;\n",
       "                    --jp-widgets-label-color: white;\n",
       "                    --jp-ui-font-color1: white;\n",
       "                    --jp-layout-color2: #454545;\n",
       "                    background-color: #383838;\n",
       "                }\n",
       "\n",
       "                .geemap-dark .jupyter-button {\n",
       "                    --jp-layout-color3: #383838;\n",
       "                }\n",
       "\n",
       "                .geemap-colab {\n",
       "                    background-color: var(--colab-primary-surface-color, white);\n",
       "                }\n",
       "\n",
       "                .geemap-colab .jupyter-button {\n",
       "                    --jp-layout-color3: var(--colab-primary-surface-color, white);\n",
       "                }\n",
       "            </style>\n",
       "            "
      ],
      "text/plain": [
       "<IPython.core.display.HTML object>"
      ]
     },
     "metadata": {},
     "output_type": "display_data"
    },
    {
     "name": "stdout",
     "output_type": "stream",
     "text": [
      "Número de imágenes: 5\n"
     ]
    }
   ],
   "source": [
    "dataset = (\n",
    "    ee.ImageCollection(\"JAXA/ALOS/PALSAR-2/Level2_2/ScanSAR\")\n",
    "    .filterDate(\"2023-12-01\", \"2023-12-31\")\n",
    "    .filterBounds(adi)\n",
    ")\n",
    "# Mostrar info sobre la colección\n",
    "info = dataset.getInfo()\n",
    "print(\"Número de imágenes:\", len(info[\"features\"]))\n",
    "\n",
    "# Seleccionar la banda HH, hacer un mosaico y recortar al área\n",
    "sar_hh = dataset.select(\"HH\").mosaic().clip(adi)\n",
    "\n",
    "# Seleccionar la banda HH, hacer un mosaico y recortar al área\n",
    "sar_hv = dataset.select(\"HV\").mosaic().clip(adi)"
   ]
  },
  {
   "cell_type": "markdown",
   "id": "41a67232-179b-4507-9ad3-4aba11f55dc9",
   "metadata": {},
   "source": [
    "## 1.4 Crear un mapa interactivo centrado en el área de estudio"
   ]
  },
  {
   "cell_type": "code",
   "execution_count": 13,
   "id": "21d71e24-9b9a-44f3-a143-3d629843fd8f",
   "metadata": {},
   "outputs": [
    {
     "data": {
      "text/html": [
       "\n",
       "            <style>\n",
       "                .geemap-dark {\n",
       "                    --jp-widgets-color: white;\n",
       "                    --jp-widgets-label-color: white;\n",
       "                    --jp-ui-font-color1: white;\n",
       "                    --jp-layout-color2: #454545;\n",
       "                    background-color: #383838;\n",
       "                }\n",
       "\n",
       "                .geemap-dark .jupyter-button {\n",
       "                    --jp-layout-color3: #383838;\n",
       "                }\n",
       "\n",
       "                .geemap-colab {\n",
       "                    background-color: var(--colab-primary-surface-color, white);\n",
       "                }\n",
       "\n",
       "                .geemap-colab .jupyter-button {\n",
       "                    --jp-layout-color3: var(--colab-primary-surface-color, white);\n",
       "                }\n",
       "            </style>\n",
       "            "
      ],
      "text/plain": [
       "<IPython.core.display.HTML object>"
      ]
     },
     "metadata": {},
     "output_type": "display_data"
    },
    {
     "data": {
      "application/vnd.jupyter.widget-view+json": {
       "model_id": "bb63fd1341154690a6e69de27cad315b",
       "version_major": 2,
       "version_minor": 0
      },
      "text/plain": [
       "Map(center=[0, 0], controls=(WidgetControl(options=['position', 'transparent_bg'], widget=SearchDataGUI(childr…"
      ]
     },
     "execution_count": 13,
     "metadata": {},
     "output_type": "execute_result"
    }
   ],
   "source": [
    "Map = geemap.Map()\n",
    "Map.centerObject(adi)\n",
    "sar_rgb = sar_hh.addBands(sar_hv)\n",
    "\n",
    "sar_rgb_vis = {\"min\": 0, \"max\": 10000, \"bands\": [\"HH\", \"HV\", \"HH\"]}\n",
    "\n",
    "Map.addLayer(sar_rgb, sar_rgb_vis, \"SAR_RGB\", True)\n",
    "Map"
   ]
  },
  {
   "cell_type": "markdown",
   "id": "340d03c7-3a49-4011-89bf-bfb395d61b51",
   "metadata": {},
   "source": [
    "## 1.5 Extracción de variables explicativas como índices y bandas de interes para el modelo"
   ]
  },
  {
   "cell_type": "code",
   "execution_count": 7,
   "id": "7b59a0eb-8c95-4b77-ba42-cdb350f9effe",
   "metadata": {},
   "outputs": [
    {
     "data": {
      "text/html": [
       "\n",
       "            <style>\n",
       "                .geemap-dark {\n",
       "                    --jp-widgets-color: white;\n",
       "                    --jp-widgets-label-color: white;\n",
       "                    --jp-ui-font-color1: white;\n",
       "                    --jp-layout-color2: #454545;\n",
       "                    background-color: #383838;\n",
       "                }\n",
       "\n",
       "                .geemap-dark .jupyter-button {\n",
       "                    --jp-layout-color3: #383838;\n",
       "                }\n",
       "\n",
       "                .geemap-colab {\n",
       "                    background-color: var(--colab-primary-surface-color, white);\n",
       "                }\n",
       "\n",
       "                .geemap-colab .jupyter-button {\n",
       "                    --jp-layout-color3: var(--colab-primary-surface-color, white);\n",
       "                }\n",
       "            </style>\n",
       "            "
      ],
      "text/plain": [
       "<IPython.core.display.HTML object>"
      ]
     },
     "metadata": {},
     "output_type": "display_data"
    }
   ],
   "source": [
    "##Se define el path donde están almacenadas las funciones para llamarlas posteriormente\n",
    "\n",
    "import sys\n",
    "sys.path.append(\"/notebooks/ProyectoFinal/src\")"
   ]
  },
  {
   "cell_type": "code",
   "execution_count": 8,
   "id": "481185a6-b82f-4331-b24a-95efd18bb5cb",
   "metadata": {},
   "outputs": [
    {
     "data": {
      "text/html": [
       "\n",
       "            <style>\n",
       "                .geemap-dark {\n",
       "                    --jp-widgets-color: white;\n",
       "                    --jp-widgets-label-color: white;\n",
       "                    --jp-ui-font-color1: white;\n",
       "                    --jp-layout-color2: #454545;\n",
       "                    background-color: #383838;\n",
       "                }\n",
       "\n",
       "                .geemap-dark .jupyter-button {\n",
       "                    --jp-layout-color3: #383838;\n",
       "                }\n",
       "\n",
       "                .geemap-colab {\n",
       "                    background-color: var(--colab-primary-surface-color, white);\n",
       "                }\n",
       "\n",
       "                .geemap-colab .jupyter-button {\n",
       "                    --jp-layout-color3: var(--colab-primary-surface-color, white);\n",
       "                }\n",
       "            </style>\n",
       "            "
      ],
      "text/plain": [
       "<IPython.core.display.HTML object>"
      ]
     },
     "metadata": {},
     "output_type": "display_data"
    }
   ],
   "source": [
    "import importlib\n",
    "##las funciones se importan como librerías\n",
    "import SARFunction\n",
    "from SARFunction import dn_to_gamma_db, db_to_gamma_pw\n"
   ]
  },
  {
   "cell_type": "code",
   "execution_count": 9,
   "id": "c4e0796a-d33f-405d-9666-3858c13a7b0c",
   "metadata": {},
   "outputs": [
    {
     "data": {
      "text/html": [
       "\n",
       "            <style>\n",
       "                .geemap-dark {\n",
       "                    --jp-widgets-color: white;\n",
       "                    --jp-widgets-label-color: white;\n",
       "                    --jp-ui-font-color1: white;\n",
       "                    --jp-layout-color2: #454545;\n",
       "                    background-color: #383838;\n",
       "                }\n",
       "\n",
       "                .geemap-dark .jupyter-button {\n",
       "                    --jp-layout-color3: #383838;\n",
       "                }\n",
       "\n",
       "                .geemap-colab {\n",
       "                    background-color: var(--colab-primary-surface-color, white);\n",
       "                }\n",
       "\n",
       "                .geemap-colab .jupyter-button {\n",
       "                    --jp-layout-color3: var(--colab-primary-surface-color, white);\n",
       "                }\n",
       "            </style>\n",
       "            "
      ],
      "text/plain": [
       "<IPython.core.display.HTML object>"
      ]
     },
     "metadata": {},
     "output_type": "display_data"
    },
    {
     "name": "stdout",
     "output_type": "stream",
     "text": [
      "['HH_pw', 'HV_pw']\n"
     ]
    }
   ],
   "source": [
    "##se aplican las funciones\n",
    "\n",
    "sar_db = dn_to_gamma_db(sar_rgb)\n",
    "sar_pw = db_to_gamma_pw(sar_db)\n",
    "\n",
    "print(sar_pw.bandNames().getInfo())"
   ]
  },
  {
   "cell_type": "code",
   "execution_count": 15,
   "id": "76d3eab1-17b7-4426-9c31-fcb491b67aad",
   "metadata": {},
   "outputs": [
    {
     "data": {
      "text/html": [
       "\n",
       "            <style>\n",
       "                .geemap-dark {\n",
       "                    --jp-widgets-color: white;\n",
       "                    --jp-widgets-label-color: white;\n",
       "                    --jp-ui-font-color1: white;\n",
       "                    --jp-layout-color2: #454545;\n",
       "                    background-color: #383838;\n",
       "                }\n",
       "\n",
       "                .geemap-dark .jupyter-button {\n",
       "                    --jp-layout-color3: #383838;\n",
       "                }\n",
       "\n",
       "                .geemap-colab {\n",
       "                    background-color: var(--colab-primary-surface-color, white);\n",
       "                }\n",
       "\n",
       "                .geemap-colab .jupyter-button {\n",
       "                    --jp-layout-color3: var(--colab-primary-surface-color, white);\n",
       "                }\n",
       "            </style>\n",
       "            "
      ],
      "text/plain": [
       "<IPython.core.display.HTML object>"
      ]
     },
     "metadata": {},
     "output_type": "display_data"
    },
    {
     "data": {
      "application/vnd.jupyter.widget-view+json": {
       "model_id": "45bb3ca67e0146cf851330883a098e8d",
       "version_major": 2,
       "version_minor": 0
      },
      "text/plain": [
       "Map(center=[0, 0], controls=(WidgetControl(options=['position', 'transparent_bg'], widget=SearchDataGUI(childr…"
      ]
     },
     "execution_count": 15,
     "metadata": {},
     "output_type": "execute_result"
    }
   ],
   "source": [
    "##Mapa interactivo de los índices calculados\n",
    "\n",
    "Map2 = geemap.Map()\n",
    "Map2.centerObject(adi)\n",
    "\n",
    "sar_pw_vis = {\"min\": 0, \"max\": 0.5, \"bands\": [\"HH_pw\", \"HV_pw\", \"HH_pw\"]}\n",
    "\n",
    "Map2.addLayer(sar_pw, sar_pw_vis, \"SAR_PW\", True)\n",
    "Map2"
   ]
  },
  {
   "cell_type": "markdown",
   "id": "d2403655-070f-4e61-9a66-33675fd14278",
   "metadata": {},
   "source": [
    "## 1.6. Exportar la composción de SAR"
   ]
  },
  {
   "cell_type": "code",
   "execution_count": 11,
   "id": "bb3bcae2-8842-4e0c-91e8-117c1ec63646",
   "metadata": {},
   "outputs": [
    {
     "data": {
      "text/html": [
       "\n",
       "            <style>\n",
       "                .geemap-dark {\n",
       "                    --jp-widgets-color: white;\n",
       "                    --jp-widgets-label-color: white;\n",
       "                    --jp-ui-font-color1: white;\n",
       "                    --jp-layout-color2: #454545;\n",
       "                    background-color: #383838;\n",
       "                }\n",
       "\n",
       "                .geemap-dark .jupyter-button {\n",
       "                    --jp-layout-color3: #383838;\n",
       "                }\n",
       "\n",
       "                .geemap-colab {\n",
       "                    background-color: var(--colab-primary-surface-color, white);\n",
       "                }\n",
       "\n",
       "                .geemap-colab .jupyter-button {\n",
       "                    --jp-layout-color3: var(--colab-primary-surface-color, white);\n",
       "                }\n",
       "            </style>\n",
       "            "
      ],
      "text/plain": [
       "<IPython.core.display.HTML object>"
      ]
     },
     "metadata": {},
     "output_type": "display_data"
    },
    {
     "name": "stdout",
     "output_type": "stream",
     "text": [
      "Export task started. Monitor progress in the Earth Engine Tasks tab.\n"
     ]
    }
   ],
   "source": [
    "# Export the composite image to Google Drive\n",
    "task = ee.batch.Export.image.toDrive(\n",
    "    image=sar_pw,\n",
    "    description='AlosPalsar_PW',\n",
    "    folder='earthengine',            # Destination folder in Google Drive\n",
    "    fileNamePrefix='SAR_PW', # File name without extension\n",
    "    region=adi,                   # Area to export\n",
    "    ##scale=25,                        # Set a very high limit to allow exporting large images\n",
    "                                     # Earth Engine requires this to avoid exporting by mistake very large rasters\n",
    "                                     # The default limit is 1e8 (100 million pixels), so we override it here\n",
    "\n",
    "    maxPixels=1e13,                  # Allow large exports\n",
    "    fileFormat='GeoTIFF'\n",
    ")\n",
    "\n",
    "# Start the export task\n",
    "task.start()\n",
    "\n",
    "print(\"Export task started. Monitor progress in the Earth Engine Tasks tab.\")\n"
   ]
  }
 ],
 "metadata": {
  "kernelspec": {
   "display_name": "Python 3 (ipykernel)",
   "language": "python",
   "name": "python3"
  },
  "language_info": {
   "codemirror_mode": {
    "name": "ipython",
    "version": 3
   },
   "file_extension": ".py",
   "mimetype": "text/x-python",
   "name": "python",
   "nbconvert_exporter": "python",
   "pygments_lexer": "ipython3",
   "version": "3.11.9"
  }
 },
 "nbformat": 4,
 "nbformat_minor": 5
}
